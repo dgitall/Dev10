{
 "cells": [
  {
   "cell_type": "markdown",
   "metadata": {
    "azdata_cell_guid": "b04dc845-c871-43f7-ab6b-ebd8cc2005a4"
   },
   "source": [
    "# Exercise - Working with the Cassandra API\n",
    "\n",
    "We have pre-loaded some of the code for getting this to work. You will need to fill in the connection information as well as the Cassandra API queries to answer the questions below."
   ]
  },
  {
   "cell_type": "markdown",
   "metadata": {
    "azdata_cell_guid": "75b8de0c-911c-48ea-8a33-461f60f1ab52"
   },
   "source": [
    "We need to establish a connection to the Cassandra API cluster.  This is the information you need:\n",
    "\n",
    "- Contact point\n",
    "- Username\n",
    "- Password"
   ]
  },
  {
   "cell_type": "code",
   "execution_count": 4,
   "metadata": {
    "azdata_cell_guid": "2f73e4b3-601d-4bba-baa5-4092111fc2a6"
   },
   "outputs": [],
   "source": [
    "from cassandra.auth import PlainTextAuthProvider\n",
    "import cassandra\n",
    "from cassandra.cluster import Cluster\n",
    "from cassandra.policies import *\n",
    "from ssl import PROTOCOL_TLSv1_2, SSLContext, CERT_NONE\n",
    "\n",
    "contact_point = 'gen10-dbc-aug2021-cassandra-api.cassandra.cosmos.azure.com'\n",
    "username = 'gen10-dbc-aug2021-cassandra-api'\n",
    "password = '6J4pakuxGeSWbm7D4WkDlA8jMKF5T0E4nhvNssGrtwlEKTiJm6juIALThmcBgXczEypimsrBxQXUE4g7yYzQIw=='\n",
    "\n",
    "# Connect via TLS 1.2\n",
    "ssl_context = SSLContext(PROTOCOL_TLSv1_2)\n",
    "ssl_context.verify_mode = CERT_NONE\n",
    "auth_provider = PlainTextAuthProvider(username=username,password=password)\n",
    "cluster = Cluster([contact_point], port = 10350, auth_provider=auth_provider,ssl_context=ssl_context)\n",
    "session = cluster.connect()"
   ]
  },
  {
   "cell_type": "markdown",
   "metadata": {
    "azdata_cell_guid": "98a02d16-6ead-4bdb-adac-67cdfc0968ed"
   },
   "source": [
    "## Exercise Questions\n",
    "\n",
    "Please answer the questions below with the respective Cassandra API queries.  If the connection information is set up properly, you can execute the code cells to confirm your responses.\n",
    "\n",
    "Each question is set up to print the solution.  You need to fill in the `session.execute()` statements with the right queries to make it correct."
   ]
  },
  {
   "cell_type": "markdown",
   "metadata": {
    "azdata_cell_guid": "1fac4e0f-2777-4b98-8b25-b129013ebf2b"
   },
   "source": [
    "1\\. What are the columns available in the airports table?"
   ]
  },
  {
   "cell_type": "code",
   "execution_count": 7,
   "metadata": {
    "azdata_cell_guid": "25ecd11e-7413-405b-8b70-fe11d6a59bb6"
   },
   "outputs": [
    {
     "data": {
      "text/plain": [
       "[Row(column_name='airportid'),\n",
       " Row(column_name='continent'),\n",
       " Row(column_name='country'),\n",
       " Row(column_name='elevation'),\n",
       " Row(column_name='name'),\n",
       " Row(column_name='region')]"
      ]
     },
     "execution_count": 7,
     "metadata": {},
     "output_type": "execute_result"
    }
   ],
   "source": [
    "list(session.execute('SELECT column_name FROM system_schema.columns WHERE table_name=\\'airports\\' ALLOW FILTERING'))"
   ]
  },
  {
   "cell_type": "markdown",
   "metadata": {
    "azdata_cell_guid": "fe06daca-6dd5-4630-87b8-de5c68ad2f08"
   },
   "source": [
    "2\\. How many records are on the airports.airports table?"
   ]
  },
  {
   "cell_type": "code",
   "execution_count": 19,
   "metadata": {
    "azdata_cell_guid": "4f57c00c-f254-4750-a3b4-0194e1f7bb88"
   },
   "outputs": [
    {
     "data": {
      "text/plain": [
       "[Row(system_count=246)]"
      ]
     },
     "execution_count": 19,
     "metadata": {},
     "output_type": "execute_result"
    }
   ],
   "source": [
    "list(session.execute('SELECT COUNT(*) FROM airports.airports'))"
   ]
  },
  {
   "cell_type": "markdown",
   "metadata": {
    "azdata_cell_guid": "8619bb6a-03e5-4c18-9149-0ba0e99e2286"
   },
   "source": [
    "3\\. What is the highest elevation and lowest elevation of this sample set?"
   ]
  },
  {
   "cell_type": "code",
   "execution_count": 18,
   "metadata": {
    "azdata_cell_guid": "193c8f1a-1922-46bb-9893-390449d2531e",
    "tags": []
   },
   "outputs": [
    {
     "name": "stdout",
     "output_type": "stream",
     "text": [
      "[Row(system_max_elevation=10175)]\n",
      "[Row(system_min_elevation=-1)]\n"
     ]
    }
   ],
   "source": [
    "min_elevation = session.execute('SELECT MAX(elevation) FROM airports.airports')\n",
    "max_elevation = session.execute('SELECT MIN(elevation) FROM airports.airports')\n",
    "print (list(min_elevation))\n",
    "print (list(max_elevation))"
   ]
  },
  {
   "cell_type": "markdown",
   "metadata": {
    "azdata_cell_guid": "56c31c97-fc41-4989-bcfb-42f860f71726"
   },
   "source": [
    "4.  What airports have an elevation between 5000 and 10000? Return the airport names and their respective elevations."
   ]
  },
  {
   "cell_type": "code",
   "execution_count": 20,
   "metadata": {
    "azdata_cell_guid": "4c3fe262-5089-4748-979e-79ccd834faac"
   },
   "outputs": [
    {
     "data": {
      "text/plain": [
       "[Row(name='A Z Minerals Corporation Airport', elevation=5315),\n",
       " Row(name='Conover Air Lodge Airport', elevation=5160),\n",
       " Row(name='Duckwater Airport', elevation=5124),\n",
       " Row(name='La Sal Junction Airport', elevation=6000),\n",
       " Row(name='Lava Hot Springs Airport', elevation=5268),\n",
       " Row(name='Llama Ranch Airport', elevation=6120),\n",
       " Row(name='Mc Cullough Airport', elevation=7615),\n",
       " Row(name='Morgan Ranch Airport', elevation=5634),\n",
       " Row(name='Mountain View Regional Hospital Heliport', elevation=5210),\n",
       " Row(name='Wise River Airport', elevation=5830)]"
      ]
     },
     "execution_count": 20,
     "metadata": {},
     "output_type": "execute_result"
    }
   ],
   "source": [
    "results = session.execute('SELECT name,elevation FROM airports.airports WHERE elevation > 5000 AND elevation < 10000 ALLOW FILTERING')\n",
    "list(results)"
   ]
  },
  {
   "cell_type": "markdown",
   "metadata": {
    "azdata_cell_guid": "1ecb1c2a-bff9-4d7f-8125-159ff61ace1e"
   },
   "source": [
    "5\\. What airports are in Texas or Florida?  Return the airport name and location."
   ]
  },
  {
   "cell_type": "code",
   "execution_count": 27,
   "metadata": {
    "azdata_cell_guid": "87922d42-7202-458d-925e-b5d26fd76042"
   },
   "outputs": [
    {
     "data": {
      "text/plain": [
       "[Row(name='Advent Health Altamonte Springs Heliport', region='US-FL'),\n",
       " Row(name='Alpine Range Airport', region='US-TX'),\n",
       " Row(name='Barronena Ranch Airport', region='US-TX'),\n",
       " Row(name='Baylor Medical Center Heliport', region='US-TX'),\n",
       " Row(name='Cedar Knoll Flying Ranch Airport', region='US-FL'),\n",
       " Row(name='Creekside Airport', region='US-TX'),\n",
       " Row(name='Cross Creek Farms Airport', region='US-FL'),\n",
       " Row(name='Grass Patch Airport', region='US-FL'),\n",
       " Row(name='Hilliard Airpark', region='US-FL'),\n",
       " Row(name='JLS Farms Airport', region='US-TX'),\n",
       " Row(name='L P Askew Farms Airport', region='US-TX'),\n",
       " Row(name='Lake Persimmon Airstrip', region='US-FL'),\n",
       " Row(name='M D K Field', region='US-TX'),\n",
       " Row(name='Matagorda Shore Facility Heliport', region='US-TX'),\n",
       " Row(name='Meadowood Ranch Heliport', region='US-TX'),\n",
       " Row(name='Osborn Airfield', region='US-FL'),\n",
       " Row(name='Ranger Heliport', region='US-FL'),\n",
       " Row(name='Richards Field', region='US-FL'),\n",
       " Row(name='Ringhaver Heliport', region='US-FL'),\n",
       " Row(name='River Oak Airport', region='US-FL'),\n",
       " Row(name='Rybolt Ranch Airport', region='US-FL'),\n",
       " Row(name='Seton Medical Center Hays Heliport', region='US-TX'),\n",
       " Row(name='Shannon Medical Center Heliport', region='US-TX'),\n",
       " Row(name='Smith Field', region='US-TX'),\n",
       " Row(name='Tampa General Hospital Brandon Healthplex Heliport', region='US-FL'),\n",
       " Row(name='Tcjc-Northeast Campus Heliport', region='US-TX'),\n",
       " Row(name='The Palms At Kitty Hawk Airport', region='US-TX'),\n",
       " Row(name='Thirty Thirty Matlock Office Center Heliport', region='US-TX')]"
      ]
     },
     "execution_count": 27,
     "metadata": {},
     "output_type": "execute_result"
    }
   ],
   "source": [
    "results = session.execute('SELECT name, region FROM airports.airports WHERE region IN (\\'US-TX\\',\\'US-FL\\') ALLOW FILTERING')\n",
    "list(results)"
   ]
  },
  {
   "cell_type": "markdown",
   "metadata": {
    "azdata_cell_guid": "e19e78bb-d71e-459e-890f-7fc53d94fc65"
   },
   "source": [
    "6\\. What airport(s) in this sample are not part of North America?  Include the airport name, continent, and country as part of the results."
   ]
  },
  {
   "cell_type": "code",
   "execution_count": 32,
   "metadata": {
    "azdata_cell_guid": "16d406cb-c9e7-4e25-b1ed-6544290fbcbf",
    "tags": []
   },
   "outputs": [
    {
     "data": {
      "text/plain": [
       "[Row(name='Utirik Airport', continent='OC', country='MH')]"
      ]
     },
     "execution_count": 32,
     "metadata": {},
     "output_type": "execute_result"
    }
   ],
   "source": [
    "results = session.execute('SELECT name,continent,country FROM airports.airports WHERE continent != \\'NA\\' ALLOW FILTERING')\n",
    "list(results)"
   ]
  },
  {
   "cell_type": "markdown",
   "metadata": {
    "azdata_cell_guid": "bdde57fb-2616-45f1-8a72-00b58aaa8c8a"
   },
   "source": [
    "7\\. Are there any airports in this sample that are part of North America but not in the US?"
   ]
  },
  {
   "cell_type": "code",
   "execution_count": 33,
   "metadata": {
    "azdata_cell_guid": "e8bca26a-5200-4254-a7c8-d9002c5de9e2"
   },
   "outputs": [
    {
     "data": {
      "text/plain": [
       "[Row(name='Cuylers Airport', continent='NA', country='PR')]"
      ]
     },
     "execution_count": 33,
     "metadata": {},
     "output_type": "execute_result"
    }
   ],
   "source": [
    "results = session.execute('SELECT name,continent,country FROM airports.airports WHERE continent = \\'NA\\' AND country != \\'US\\' ALLOW FILTERING')\n",
    "list(results)"
   ]
  },
  {
   "cell_type": "markdown",
   "metadata": {
    "azdata_cell_guid": "bb47ac67-5f22-44d4-8f83-371657c041bd"
   },
   "source": [
    "8\\. How many airports are there in the US that are higher than 2000ft, lower than 5000ft?"
   ]
  },
  {
   "cell_type": "code",
   "execution_count": 35,
   "metadata": {
    "azdata_cell_guid": "aa4ce065-10b3-487d-b2a0-e08ac9da6e7c"
   },
   "outputs": [
    {
     "name": "stdout",
     "output_type": "stream",
     "text": [
      "[Row(system_count=44)]\n",
      "[Row(system_count=233)]\n"
     ]
    }
   ],
   "source": [
    "results = session.execute('SELECT COUNT(*) FROM airports.airports WHERE elevation > 2000 AND country=\\'US\\'  ALLOW FILTERING')\n",
    "print(list(results))\n",
    "results = session.execute('SELECT COUNT(*) FROM airports.airports WHERE elevation < 5000 AND country=\\'US\\'  ALLOW FILTERING')\n",
    "print(list(results))"
   ]
  },
  {
   "cell_type": "markdown",
   "metadata": {
    "azdata_cell_guid": "d6d83b61-24f9-42f0-a467-45d192430e98"
   },
   "source": [
    "9\\. What is the average elevation in this sample set?"
   ]
  },
  {
   "cell_type": "code",
   "execution_count": 36,
   "metadata": {
    "azdata_cell_guid": "46a16650-7886-42fa-a9f3-d372f6a02531",
    "tags": [
     "hide_input"
    ]
   },
   "outputs": [
    {
     "data": {
      "text/plain": [
       "[Row(system_avg_elevation=1164)]"
      ]
     },
     "execution_count": 36,
     "metadata": {},
     "output_type": "execute_result"
    }
   ],
   "source": [
    "results = session.execute('SELECT AVG(elevation) FROM airports.airports')\n",
    "list(results)"
   ]
  },
  {
   "cell_type": "markdown",
   "metadata": {
    "azdata_cell_guid": "28a03c16-4183-4443-b3e2-23c7a13beded"
   },
   "source": [
    "10.  What is the average elevation of the airports in Ohio?"
   ]
  },
  {
   "cell_type": "code",
   "execution_count": 39,
   "metadata": {
    "azdata_cell_guid": "d38ab38e-f15e-47b6-bf0c-37d831e0bc0e",
    "tags": []
   },
   "outputs": [
    {
     "data": {
      "text/plain": [
       "[Row(system_avg_elevation=897)]"
      ]
     },
     "execution_count": 39,
     "metadata": {},
     "output_type": "execute_result"
    }
   ],
   "source": [
    "average_elevation = session.execute('SELECT AVG(elevation) FROM airports.airports WHERE region=\\'US-OH\\' ALLOW FILTERING')\n",
    "list(average_elevation)"
   ]
  },
  {
   "cell_type": "code",
   "execution_count": null,
   "metadata": {},
   "outputs": [],
   "source": []
  }
 ],
 "metadata": {
  "kernelspec": {
   "display_name": "Python 3 (ipykernel)",
   "language": "python",
   "name": "python3"
  },
  "language_info": {
   "codemirror_mode": {
    "name": "ipython",
    "version": 3
   },
   "file_extension": ".py",
   "mimetype": "text/x-python",
   "name": "python",
   "nbconvert_exporter": "python",
   "pygments_lexer": "ipython3",
   "version": "3.9.9"
  }
 },
 "nbformat": 4,
 "nbformat_minor": 2
}
