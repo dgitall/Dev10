{
 "cells": [
  {
   "cell_type": "code",
   "execution_count": 5,
   "id": "0ba8b37d",
   "metadata": {},
   "outputs": [],
   "source": [
    "from gremlin_python.driver import client, serializer\n",
    "\n",
    "account_name = 'gen10-dbc-aug2021-gremlin-api'\n",
    "db_name = 'library'\n",
    "collection_name = 'books'\n",
    "password = 'zBByrlJtXzNXwVpB1IpYcCxTNl0izrwGY4tEQcw436i6V4Dv6VWYrCY7kfmbObfxRtd4ghU2XvjXKSvCNv5Ppg=='\n",
    "\n",
    "client = client.Client(\n",
    "        f'wss://{account_name}.gremlin.cosmosdb.azure.com:443/','g', \n",
    "        username=f\"/dbs/{db_name}/colls/{collection_name}\",\n",
    "    password=password,\n",
    "        message_serializer=serializer.GraphSONSerializersV2d0()\n",
    ")"
   ]
  },
  {
   "cell_type": "code",
   "execution_count": 6,
   "id": "f2789b0f",
   "metadata": {},
   "outputs": [],
   "source": [
    "from gremlin_python.driver.protocol import GremlinServerError\n",
    "import nest_asyncio\n",
    "# Need to do this to get around thread issues\n",
    "nest_asyncio.apply() \n",
    "\n",
    "cosmosdb_messages = {\n",
    "    401: 'Invalid credentials',\n",
    "    409: 'Conflict exception. You\\'re probably inserting the same ID again.',\n",
    "    429: 'Not enough RUs for this query. Try again.'\n",
    "}\n",
    "\n",
    "def executeGremlinQuery(gremlinQuery, message=None, params=None):\n",
    "    try:         \n",
    "        callback = client.submitAsync(gremlinQuery)\n",
    "        if callback.result() is not None:\n",
    "            return callback.result().one()\n",
    "    except GremlinServerError as ex:\n",
    "        status=ex.status_attributes['x-ms-status-code']\n",
    "        print('There was an exception: {0}'.format(status))\n",
    "        print(cosmosdb_messages[status])\n",
    "        "
   ]
  },
  {
   "cell_type": "code",
   "execution_count": 7,
   "id": "c76861a7",
   "metadata": {},
   "outputs": [
    {
     "data": {
      "text/plain": [
       "[{'id': 'b818d241-d526-4ed3-97de-2a2ab82016ff',\n",
       "  'label': 'book',\n",
       "  'type': 'vertex',\n",
       "  'properties': {'name': [{'id': 'b818d241-d526-4ed3-97de-2a2ab82016ff|name',\n",
       "     'value': 'Knowledge is Beautiful'}],\n",
       "   'author': [{'id': '32cb258b-7dd3-4f51-aad2-d474ecfb982b',\n",
       "     'value': 'David McCandless'}],\n",
       "   'msrp': [{'id': '1b67da81-3692-4e6e-bfb7-d9403b26177f', 'value': 30.0}]}},\n",
       " {'id': '62b843ad-b6bf-424a-8de7-df49c230351b',\n",
       "  'label': 'book',\n",
       "  'type': 'vertex',\n",
       "  'properties': {'name': [{'id': '62b843ad-b6bf-424a-8de7-df49c230351b|name',\n",
       "     'value': 'The Visual Miscellaneum'}],\n",
       "   'author': [{'id': '16e46dbe-fda1-4b9c-b9da-50097ec74758',\n",
       "     'value': 'David McCandless'}],\n",
       "   'msrp': [{'id': 'b38f3452-249e-43cb-94b0-19604bc34a8c', 'value': 49.75}]}},\n",
       " {'id': '4b5423db-6089-49a2-a1a0-b9453ceb5f44',\n",
       "  'label': 'book',\n",
       "  'type': 'vertex',\n",
       "  'properties': {'name': [{'id': '4b5423db-6089-49a2-a1a0-b9453ceb5f44|name',\n",
       "     'value': 'Datavision²'}],\n",
       "   'author': [{'id': '3e22f926-81a6-4ce1-87d1-f13d0037c769',\n",
       "     'value': 'David McCandless, Anna Postel'}],\n",
       "   'msrp': [{'id': '56481e3f-639f-4edc-bf74-a0b7871c7677', 'value': 40.35}]}},\n",
       " {'id': '2977ad14-c512-47ad-b2d0-7b837c51e414',\n",
       "  'label': 'book',\n",
       "  'type': 'vertex',\n",
       "  'properties': {'name': [{'id': '2977ad14-c512-47ad-b2d0-7b837c51e414|name',\n",
       "     'value': 'Nuts About Data'}],\n",
       "   'author': [{'id': '76b8cafd-c221-4be3-b1cd-f569469d3d90',\n",
       "     'value': 'Meor Amer'}],\n",
       "   'msrp': [{'id': '223c07b5-d13d-48c5-9837-13f1c2986ec7', 'value': 9.99}]}},\n",
       " {'id': 'd100c74e-1db3-4f50-b6b6-53fcfe09def7',\n",
       "  'label': 'book',\n",
       "  'type': 'vertex',\n",
       "  'properties': {'name': [{'id': 'd100c74e-1db3-4f50-b6b6-53fcfe09def7|name',\n",
       "     'value': 'Storytelling with Data'}],\n",
       "   'author': [{'id': '70d68635-4579-4079-a899-422bc8ae40c7',\n",
       "     'value': 'Cole Nussbaumer Knafic'}],\n",
       "   'msrp': [{'id': 'a90850ec-5bb6-4318-b01a-59d035cb1863', 'value': 39.95}]}},\n",
       " {'id': '0dbdc3de-0d1f-4e95-98e9-920dda69b7e6',\n",
       "  'label': 'book',\n",
       "  'type': 'vertex',\n",
       "  'properties': {'name': [{'id': '0dbdc3de-0d1f-4e95-98e9-920dda69b7e6|name',\n",
       "     'value': 'The Book of Circles'}],\n",
       "   'author': [{'id': '453b3627-bec2-48f6-be2f-bda4dc2c8cb3',\n",
       "     'value': 'Manuel Lima'}],\n",
       "   'msrp': [{'id': 'b9f46852-9663-4d0e-9620-64e8f5cf32c9', 'value': 40.0}]}},\n",
       " {'id': '40b48ea8-42b6-46d6-a70a-f4df13daf4a0',\n",
       "  'label': 'book',\n",
       "  'type': 'vertex',\n",
       "  'properties': {'name': [{'id': '40b48ea8-42b6-46d6-a70a-f4df13daf4a0|name',\n",
       "     'value': 'The Truthful Art'}],\n",
       "   'author': [{'id': 'c8491daa-6458-4ce9-a9d2-1d5174d497d4',\n",
       "     'value': 'Alberto Cairo'}],\n",
       "   'msrp': [{'id': '6fcff293-85b6-46cf-8fcd-74bb6b8baf11', 'value': 49.99}]}},\n",
       " {'id': '3296d970-29b7-4364-ae04-a73d5a3a327b',\n",
       "  'label': 'tag',\n",
       "  'type': 'vertex',\n",
       "  'properties': {'name': [{'id': '3296d970-29b7-4364-ae04-a73d5a3a327b|name',\n",
       "     'value': 'storytelling'}]}},\n",
       " {'id': '30391d90-b4d5-4c46-8396-65c2788d02ff',\n",
       "  'label': 'tag',\n",
       "  'type': 'vertex',\n",
       "  'properties': {'name': [{'id': '30391d90-b4d5-4c46-8396-65c2788d02ff|name',\n",
       "     'value': 'trivia'}]}},\n",
       " {'id': '0b98e44c-a7f0-4638-9e0f-e523e52453f9',\n",
       "  'label': 'tag',\n",
       "  'type': 'vertex',\n",
       "  'properties': {'name': [{'id': '0b98e44c-a7f0-4638-9e0f-e523e52453f9|name',\n",
       "     'value': 'visualization'}]}}]"
      ]
     },
     "execution_count": 7,
     "metadata": {},
     "output_type": "execute_result"
    }
   ],
   "source": [
    "executeGremlinQuery(\"g.V()\")"
   ]
  },
  {
   "cell_type": "code",
   "execution_count": 8,
   "id": "628833e8",
   "metadata": {},
   "outputs": [
    {
     "data": {
      "text/plain": [
       "[{'id': 'b818d241-d526-4ed3-97de-2a2ab82016ff',\n",
       "  'label': 'book',\n",
       "  'type': 'vertex',\n",
       "  'properties': {'name': [{'id': 'b818d241-d526-4ed3-97de-2a2ab82016ff|name',\n",
       "     'value': 'Knowledge is Beautiful'}],\n",
       "   'author': [{'id': '32cb258b-7dd3-4f51-aad2-d474ecfb982b',\n",
       "     'value': 'David McCandless'}],\n",
       "   'msrp': [{'id': '1b67da81-3692-4e6e-bfb7-d9403b26177f', 'value': 30.0}]}}]"
      ]
     },
     "execution_count": 8,
     "metadata": {},
     "output_type": "execute_result"
    }
   ],
   "source": [
    "executeGremlinQuery(\"g.V().limit(1)\")"
   ]
  },
  {
   "cell_type": "code",
   "execution_count": 9,
   "id": "9b0a8819",
   "metadata": {},
   "outputs": [
    {
     "name": "stdout",
     "output_type": "stream",
     "text": [
      "Count of edges: [2]\n"
     ]
    }
   ],
   "source": [
    "result = executeGremlinQuery(\"g.E().count()\")\n",
    "print(\"Count of edges: {0}\".format(result))"
   ]
  },
  {
   "cell_type": "code",
   "execution_count": null,
   "id": "0a59a1fe",
   "metadata": {},
   "outputs": [],
   "source": []
  }
 ],
 "metadata": {
  "kernelspec": {
   "display_name": "Python 3 (ipykernel)",
   "language": "python",
   "name": "python3"
  },
  "language_info": {
   "codemirror_mode": {
    "name": "ipython",
    "version": 3
   },
   "file_extension": ".py",
   "mimetype": "text/x-python",
   "name": "python",
   "nbconvert_exporter": "python",
   "pygments_lexer": "ipython3",
   "version": "3.9.9"
  }
 },
 "nbformat": 4,
 "nbformat_minor": 5
}
