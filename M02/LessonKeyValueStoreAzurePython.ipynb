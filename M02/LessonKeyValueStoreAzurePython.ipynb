{
 "cells": [
  {
   "cell_type": "code",
   "execution_count": 4,
   "id": "bec8b3bd",
   "metadata": {},
   "outputs": [],
   "source": [
    "from azure.cosmosdb.table import TableService\n",
    "\n",
    "account_name = 'gen10-dbc-aug2021-table-api'\n",
    "account_key = '1iqFVSeSKy0SGMxVcNZyaintFYjdSqEc43MN1N7xCofy1m5smal3QTMUbbB3YPpHOIAYzPinM2uMcpi7wOQ8fQ=='\n",
    "table_endpoint = f'https://{account_name}.table.cosmos.azure.com:443/'\n",
    "\n",
    "the_connection_string = f\"DefaultEndpointsProtocol=https;AccountName={account_name};AccountKey={account_key};TableEndpoint={table_endpoint};\"\n",
    "table_service = TableService(endpoint_suffix = \"table.cosmos.azure.com\", connection_string= the_connection_string)\n",
    "table_name = 'booksTable'"
   ]
  },
  {
   "cell_type": "code",
   "execution_count": 5,
   "id": "8ededde8",
   "metadata": {},
   "outputs": [
    {
     "name": "stdout",
     "output_type": "stream",
     "text": [
      "Knowledge is Beautiful by David McCandless\n"
     ]
    }
   ],
   "source": [
    "book = table_service.get_entity(table_name, 'dataBooks', '001')\n",
    "print(f\"{book.title} by {book.author}\")"
   ]
  },
  {
   "cell_type": "code",
   "execution_count": 6,
   "id": "5d42e092",
   "metadata": {},
   "outputs": [
    {
     "name": "stdout",
     "output_type": "stream",
     "text": [
      "The first book\n",
      "{'PartitionKey': 'dataBooks', 'RowKey': '001', 'Timestamp': datetime.datetime(2021, 8, 10, 19, 57, 31, 573760, tzinfo=tzutc()), 'title': 'Knowledge is Beautiful', 'author': 'David McCandless', 'msrp': 30.0, 'etag': 'W/\"datetime\\'2021-08-10T19%3A57%3A31.5737603Z\\'\"'}\n"
     ]
    }
   ],
   "source": [
    "print(\"The first book\")\n",
    "books = table_service.query_entities(table_name)\n",
    "all_books = list(books)\n",
    "print(all_books[0])"
   ]
  },
  {
   "cell_type": "code",
   "execution_count": 7,
   "id": "3a5eec75",
   "metadata": {},
   "outputs": [
    {
     "name": "stdout",
     "output_type": "stream",
     "text": [
      "The first book\n",
      "{'PartitionKey': 'dataBooks', 'RowKey': '001', 'Timestamp': datetime.datetime(2021, 8, 10, 19, 57, 31, 573760, tzinfo=tzutc()), 'title': 'Knowledge is Beautiful', 'author': 'David McCandless', 'msrp': 30.0, 'etag': 'W/\"datetime\\'2021-08-10T19%3A57%3A31.5737603Z\\'\"'}\n"
     ]
    }
   ],
   "source": [
    "print(\"The first book\")\n",
    "books = table_service.query_entities(table_name)\n",
    "all_books = list(books)\n",
    "print(all_books[0])\n"
   ]
  },
  {
   "cell_type": "code",
   "execution_count": 8,
   "id": "ed6b8450",
   "metadata": {},
   "outputs": [
    {
     "name": "stdout",
     "output_type": "stream",
     "text": [
      "Knowledge is Beautiful by David McCandless\n",
      "The Visual Miscellaneum by Dave McCandless\n",
      "Datavision 2 by David McCandless\n",
      "Nuts About Data by Meor Amer\n",
      "Storytelling with Data by Cole Nussbaumer Knafic\n",
      "The Book of Circles by Manuel Lima\n",
      "The Truthful Art by Alberto Cairo\n"
     ]
    }
   ],
   "source": [
    "dataBooks = table_service.query_entities(\n",
    "    table_name, select='title,author')\n",
    "for dataBook in dataBooks:\n",
    "    print(f\"{dataBook.title} by {dataBook.author}\")"
   ]
  },
  {
   "cell_type": "code",
   "execution_count": 9,
   "id": "dbf4b05e",
   "metadata": {},
   "outputs": [
    {
     "name": "stdout",
     "output_type": "stream",
     "text": [
      "Nuts About Data by Meor Amer\n",
      "The Book of Circles by Manuel Lima\n"
     ]
    }
   ],
   "source": [
    "books = table_service.query_entities(\n",
    "    table_name, filter=\"author ge 'M' and author lt 'N'\",select=\"title,author\")\n",
    "for book in books:\n",
    "    print(f\"{book.title} by {book.author}\")"
   ]
  },
  {
   "cell_type": "code",
   "execution_count": 10,
   "id": "e8c3d985",
   "metadata": {},
   "outputs": [
    {
     "name": "stdout",
     "output_type": "stream",
     "text": [
      "Knowledge is Beautiful by David McCandless - $30.0\n",
      "Nuts About Data by Meor Amer - $9.99\n"
     ]
    }
   ],
   "source": [
    "books = table_service.query_entities(\n",
    "    table_name, filter=\"(author eq 'David McCandless' or author eq 'Meor Amer') and msrp lt 40\",select=\"title,author,msrp\")\n",
    "for book in books:\n",
    "    print(f\"{book.title} by {book.author} - ${book.msrp}\")"
   ]
  },
  {
   "cell_type": "code",
   "execution_count": null,
   "id": "aeb1e5d2",
   "metadata": {},
   "outputs": [],
   "source": []
  }
 ],
 "metadata": {
  "kernelspec": {
   "display_name": "Python 3 (ipykernel)",
   "language": "python",
   "name": "python3"
  },
  "language_info": {
   "codemirror_mode": {
    "name": "ipython",
    "version": 3
   },
   "file_extension": ".py",
   "mimetype": "text/x-python",
   "name": "python",
   "nbconvert_exporter": "python",
   "pygments_lexer": "ipython3",
   "version": "3.9.7"
  }
 },
 "nbformat": 4,
 "nbformat_minor": 5
}
