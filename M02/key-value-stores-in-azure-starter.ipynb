{
 "cells": [
  {
   "cell_type": "markdown",
   "metadata": {
    "azdata_cell_guid": "55d29844-45e6-4fa5-9539-7b8a261b6abf"
   },
   "source": [
    "# Exercise - Working with Table API Databases\n",
    "\n",
    "We have pre-loaded some of the code for getting this to work. You will need to fill in the connection information as well as the table API queries to answer the questions below."
   ]
  },
  {
   "cell_type": "markdown",
   "metadata": {
    "azdata_cell_guid": "4401ffce-a4a8-46b9-9fa1-35abadab5660"
   },
   "source": [
    "You will need the following information:\n",
    "\n",
    "- Account Name\n",
    "- Account Key"
   ]
  },
  {
   "cell_type": "code",
   "execution_count": 15,
   "metadata": {
    "azdata_cell_guid": "02ab4cc8-7ffb-474e-bcc4-1980587f9db7"
   },
   "outputs": [],
   "source": [
    "from azure.cosmosdb.table import TableService\n",
    "\n",
    "account_name = 'gen10-dbc-aug2021-table-api'\n",
    "account_key = '1iqFVSeSKy0SGMxVcNZyaintFYjdSqEc43MN1N7xCofy1m5smal3QTMUbbB3YPpHOIAYzPinM2uMcpi7wOQ8fQ'\n",
    "table_endpoint = f'https://{account_name}.table.cosmos.azure.com:443/'\n",
    "\n",
    "the_connection_string = f\"DefaultEndpointsProtocol=https;AccountName={account_name};AccountKey={account_key};TableEndpoint={table_endpoint};\"\n",
    "table_service = TableService(endpoint_suffix = \"table.cosmos.azure.com\", connection_string= the_connection_string)\n",
    "table_name = 'airports'"
   ]
  },
  {
   "cell_type": "markdown",
   "metadata": {
    "azdata_cell_guid": "f880d8ff-9142-4782-9cf8-f9a4ac4ee159"
   },
   "source": [
    "## Exercise Questions\n",
    "\n",
    "Please answer the questions below with the respective Table API queries.  If the connection information is set up properly, you can execute the code cells to confirm your responses.\n",
    "\n",
    "Each question is set up to print the solution.  You need to fill in the `query_entities()` portion."
   ]
  },
  {
   "cell_type": "markdown",
   "metadata": {
    "azdata_cell_guid": "24a625ee-ad7e-4369-9d96-b220971e6e71"
   },
   "source": [
    "1\\. How many airports are in this sample?"
   ]
  },
  {
   "cell_type": "code",
   "execution_count": 16,
   "metadata": {
    "azdata_cell_guid": "099f886d-b920-425c-b756-cee3a9fc926a"
   },
   "outputs": [
    {
     "name": "stdout",
     "output_type": "stream",
     "text": [
      "airports\n",
      "250\n"
     ]
    }
   ],
   "source": [
    "print(table_name)\n",
    "airports = table_service.query_entities(table_name)\n",
    "print(len(list(airports)))\n"
   ]
  },
  {
   "cell_type": "markdown",
   "metadata": {
    "azdata_cell_guid": "fc46d799-e478-48b1-9722-282f33b59372"
   },
   "source": [
    "2\\. What is the first airport in this dataset?"
   ]
  },
  {
   "cell_type": "code",
   "execution_count": 18,
   "metadata": {
    "azdata_cell_guid": "68fa185f-032f-49fe-b9ef-cbfba2890c58"
   },
   "outputs": [
    {
     "name": "stdout",
     "output_type": "stream",
     "text": [
      "A Z Minerals Corporation Airport\n"
     ]
    }
   ],
   "source": [
    "airports = table_service.query_entities(table_name)\n",
    "print(list(airports)[0].name)"
   ]
  },
  {
   "cell_type": "markdown",
   "metadata": {
    "azdata_cell_guid": "15831904-163f-41c4-a73e-dbfa5de8248e"
   },
   "source": [
    "3\\. What is the query to get the names, continents, and elevations for all airports?"
   ]
  },
  {
   "cell_type": "code",
   "execution_count": 20,
   "metadata": {
    "azdata_cell_guid": "b3db8b5e-d9d6-4bde-be32-622371d86a11",
    "tags": []
   },
   "outputs": [
    {
     "name": "stdout",
     "output_type": "stream",
     "text": [
      "A Z Minerals Corporation Airport - NA - 5315.0ft\n",
      "Ac & R Components Heliport - NA - 600.0ft\n",
      "Advent Health Altamonte Springs Heliport - NA - 86.0ft\n",
      "Aero B Ranch Airport - NA - 3435.0ft\n",
      "Aerostone Ranch Airport - NA - 2320.0ft\n",
      "Airpark Private Airport - NA - 767.0ft\n",
      "Albert Guido Memorial Heliport - NA - 10.0ft\n",
      "Alpine Range Airport - NA - 670.0ft\n",
      "Annapolis Seaplane Base - NA - -1.0ft\n",
      "Anniston AHP (Anniston Army Depot) - NA - 686.0ft\n",
      "Bailey Generation Station Heliport - NA - 600.0ft\n",
      "Barefoot Airport - NA - 160.0ft\n",
      "Barham Airport - NA - 90.0ft\n",
      "Barnes Seaplane Base - NA - 1358.0ft\n",
      "Barronena Ranch Airport - NA - 600.0ft\n",
      "Bass Field - NA - 61.0ft\n",
      "Battle Lake Municipal Airport - NA - 1365.0ft\n",
      "Baylor Medical Center Heliport - NA - 560.0ft\n",
      "Beech Hill Airport - NA - 625.0ft\n",
      "Beer Airport - NA - 920.0ft\n",
      "Benes Service Airport - NA - 1550.0ft\n",
      "Berlin Fairgrounds Heliport - NA - 60.0ft\n",
      "Bierly(Personal Use) Airport - NA - 960.0ft\n",
      "Boone County Hospital Heliport - NA - 1160.0ft\n",
      "Boone National Guard Heliport - NA - 760.0ft\n",
      "Brunner Airport - NA - 750.0ft\n",
      "Bucks Airport - NA - 105.0ft\n",
      "Caffrey Heliport - NA - 957.0ft\n",
      "Caldwell Municipal Airport - NA - 1157.0ft\n",
      "Cascade Field - NA - 3580.0ft\n",
      "Cawleys South Prairie Airport - NA - 690.0ft\n",
      "Cedar Knoll Flying Ranch Airport - NA - 19.0ft\n",
      "Champion Ranch Airport - NA - 3630.0ft\n",
      "Chesapeake City Heliport - NA - 40.0ft\n",
      "Cleveland Clinic, Marymount Hospital Heliport - NA - 890.0ft\n",
      "Cliche Cove Seaplane Base - NA - 96.0ft\n",
      "Colgate-Piscataway Heliport - NA - 78.0ft\n",
      "Collegeville Heliport - NA - 197.0ft\n",
      "Colonial Air Park - NA - 370.0ft\n",
      "Columbus Southwest Airport - NA - 920.0ft\n",
      "Community Hospital Heliport - NA - 890.0ft\n",
      "Community Hospital of De Queen Heliport - NA - 400.0ft\n",
      "Compaq Andover Heliport - NA - 140.0ft\n",
      "Condell Medical Center Heliport - NA - 762.0ft\n",
      "Conover Air Lodge Airport - NA - 5160.0ft\n",
      "Cooper Flying Service Airport - NA - 970.0ft\n",
      "Cordes Airport - NA - 3810.0ft\n",
      "Country Breeze Airport - NA - 125.0ft\n",
      "Creekside Airport - NA - 2100.0ft\n",
      "Cross Creek Farms Airport - NA - 30.0ft\n",
      "Crystal Lakes Resort Airport - NA - 3141.0ft\n",
      "Cuttyhunk Heliport - NA - 9.0ft\n",
      "Cuylers Airport - NA - 15.0ft\n",
      "Damien Heliport - NA - 25.0ft\n",
      "Davis Field Ultralightport - NA - 465.0ft\n",
      "Delta Shores Airport - NA - 2064.0ft\n",
      "Detour Airport - NA - 3000.0ft\n",
      "Diamond P. Field - NA - 904.0ft\n",
      "Doug Bolton Field - NA - 884.0ft\n",
      "Dow Chemical Heliport - NA - 588.0ft\n",
      "Duckwater Airport - NA - 5124.0ft\n",
      "Eagles Landing Heliport - NA - 1000.0ft\n",
      "East Field - NA - 954.0ft\n",
      "Ellis Field - NA - 840.0ft\n",
      "Epps Airpark - NA - 820.0ft\n",
      "Etowah Fields Airport - NA - 710.0ft\n",
      "Fairplains Airpark - NA - 850.0ft\n",
      "Ferrell Field - NA - 1301.0ft\n",
      "Flow Through Terminal Heliport - NA - 736.0ft\n",
      "Flying H Farms Airport - NA - 385.0ft\n",
      "Flying N Ranch Airport - NA - 1485.0ft\n",
      "Flying O Airport - NA - 150.0ft\n",
      "Flying W Ranch Airport - NA - 250.0ft\n",
      "Flying Y Ranch Airport - NA - 3180.0ft\n",
      "Fmc Nr 1 Heliport - NA - 79.0ft\n",
      "Fowler Field - NA - 2150.0ft\n",
      "Fulton Airport - NA - 1100.0ft\n",
      "Galion Community Hospital Heliport - NA - 1140.0ft\n",
      "Garner Field - NA - 141.0ft\n",
      "Gibbs Field - NA - 580.0ft\n",
      "Goddard Field - NA - 200.0ft\n",
      "Goldstone /Gts/ Airport - NA - 3038.0ft\n",
      "Goltl Airport - NA - 3359.0ft\n",
      "Grass Patch Airport - NA - 53.0ft\n",
      "Gray Butte Field - NA - 3020.0ft\n",
      "Greenbush Municipal Airport - NA - 1070.0ft\n",
      "Grossmont Hospital Heliport - NA - 634.0ft\n",
      "Groundhog Mountain Airport - NA - 2680.0ft\n",
      "Gull Bay Landing Airport - NA - 960.0ft\n",
      "HIA Airport - NA - 238.0ft\n",
      "Hadley Airport - NA - 150.0ft\n",
      "Hammer Airport - NA - 840.0ft\n",
      "Hansen Heliport - NA - 435.0ft\n",
      "Harold Miller Heliport - NA - 585.0ft\n",
      "Harpers Airport - NA - 111.0ft\n",
      "Hawks Run Airport - NA - 2900.0ft\n",
      "Hayden Farm Airport - NA - 1100.0ft\n",
      "Hayenga's Cant Find Farms Airport - NA - 820.0ft\n",
      "Heinzman Airport - NA - 850.0ft\n",
      "Helblad Airport - NA - 1195.0ft\n",
      "Highland Medical Center Heliport - NA - 628.0ft\n",
      "Highway Patrol Troop C Headquarters Heliport - NA - 615.0ft\n",
      "Hilliard Airpark - NA - 59.0ft\n",
      "Homan Field - NA - 1590.0ft\n",
      "Hoopeston Community Memorial Hospital Heliport - NA - 583.0ft\n",
      "Howell Airport - NA - 150.0ft\n",
      "Hscmh Heliport - NA - 350.0ft\n",
      "Hughes Ultralightport - NA - 1700.0ft\n",
      "Hunt's Sky Ranch Airport - NA - 2310.0ft\n",
      "Hyde Ranch Airport - NA - 2430.0ft\n",
      "Iroquois Landing Seaplane Base - NA - 1180.0ft\n",
      "JLS Farms Airport - NA - 675.0ft\n",
      "Jmj Landing Airport - NA - 1170.0ft\n",
      "Joe Clouds Seaplane Base - NA - 150.0ft\n",
      "K3 Helipad Heliport - NA - 9.0ft\n",
      "Kaupulehu Heliport - NA - 43.0ft\n",
      "Keyhole Airport - NA - 4250.0ft\n",
      "King Ultralightport - NA - 925.0ft\n",
      "Kitchen Creek Helibase Heliport - NA - 3350.0ft\n",
      "Kugel-Strong Airport - NA - 4950.0ft\n",
      "L P Askew Farms Airport - NA - 3110.0ft\n",
      "La National Guard Heliport - NA - 52.0ft\n",
      "La Sal Junction Airport - NA - 6000.0ft\n",
      "La State Police Troop G Heliport - NA - 168.0ft\n",
      "Lag Iii Heliport - NA - 1070.0ft\n",
      "Lake Gage Seaplane Base - NA - 954.0ft\n",
      "Lake Persimmon Airstrip - NA - 70.0ft\n",
      "Lakeside Marina Seaplane Base - NA - 165.0ft\n",
      "Lanham Field - NA - 2343.0ft\n",
      "Lantana Ranch Airport - NA - 4600.0ft\n",
      "Lava Hot Springs Airport - NA - 5268.0ft\n",
      "Lazy J. Aerodrome - NA - 2060.0ft\n",
      "Lejeune Airport - NA - 12.0ft\n",
      "Llama Ranch Airport - NA - 6120.0ft\n",
      "Lorden Heliport - NA - 400.0ft\n",
      "Los Angeles County Sheriff's Department Heliport - NA - 300.0ft\n",
      "Lourdes Hospital Heliport - NA - 419.0ft\n",
      "Lowell Field - NA - 450.0ft\n",
      "Lower Granite State Airport - NA - 719.0ft\n",
      "Lt World Airport - NA - 700.0ft\n",
      "Lucin Airport - NA - 4412.0ft\n",
      "Lugo Substation Heliport - NA - 3733.0ft\n",
      "M D K Field - NA - 50.0ft\n",
      "M.P. Metals Heliport - NA - 479.0ft\n",
      "Maple Ridge Airport - NA - 556.0ft\n",
      "Matagorda Shore Facility Heliport - NA - 5.0ft\n",
      "Mc Cullough Airport - NA - 7615.0ft\n",
      "Mc Donnell Airport - NA - 874.0ft\n",
      "McKenzie Bridge State Airport - NA - 1620.0ft\n",
      "Meadowood Ranch Heliport - NA - 500.0ft\n",
      "Medical Center Heliport - NA - 319.0ft\n",
      "Miami Valley Hospital Heliport - NA - 905.0ft\n",
      "Middlekoop Airport - NA - 801.0ft\n",
      "Moore Airfield - NA - 835.0ft\n",
      "Morgan Ranch Airport - NA - 5634.0ft\n",
      "Mountain View Regional Hospital Heliport - NA - 5210.0ft\n",
      "Murtha Airport - NA - 950.0ft\n",
      "Myers Field - NA - 950.0ft\n",
      "Nadeau's Airfield - NA - 700.0ft\n",
      "Natchez Trace Farm Airport - NA - 710.0ft\n",
      "Nauerth Land Ranch Airport - NA - 1435.0ft\n",
      "Nort's Resort Airport - NA - 1040.0ft\n",
      "North Raleigh Airport - NA - 348.0ft\n",
      "Northern Lite Airport - NA - 860.0ft\n",
      "Northstar Aviation Heliport - NA - 1850.0ft\n",
      "OSF St Anthony's Health Center Heliport - NA - 580.0ft\n",
      "Odyssey Heliport - NA - 20.0ft\n",
      "Olafson Brothers Airport - NA - 1045.0ft\n",
      "Osborn Airfield - NA - 121.0ft\n",
      "Paiute Meadows Airport - NA - 4443.0ft\n",
      "Peco Berwyn Heliport - NA - 390.0ft\n",
      "Penske Heliport - NA - 78.0ft\n",
      "Pickles Airport - NA - 500.0ft\n",
      "Pilots Ridge Airport - NA - 35.0ft\n",
      "Powwatka Ridge Airport - NA - 3340.0ft\n",
      "Prehn Cranberry Company Airport - NA - 930.0ft\n",
      "Providence Seward Medical Center Heliport - NA - 120.0ft\n",
      "Purkeypile Airport - NA - 1950.0ft\n",
      "R J D Heliport - NA - 402.0ft\n",
      "Race City Heliport - NA - 809.0ft\n",
      "Ragsdale Road Airport - NA - 1100.0ft\n",
      "Ranger Heliport - NA - 20.0ft\n",
      "Rapids Airway Airport - NA - 880.0ft\n",
      "Richards Field - NA - 9.0ft\n",
      "Ringhaver Heliport - NA - 25.0ft\n",
      "River Oak Airport - NA - 35.0ft\n",
      "Robbins Roost Airport - NA - 1265.0ft\n",
      "Robinson Industries Heliport - NA - 835.0ft\n",
      "Rowena Dell Airport - NA - 705.0ft\n",
      "Rustic Wilderness Airport - NA - 190.0ft\n",
      "Rybolt Ranch Airport - NA - 55.0ft\n",
      "Sahoma Lake Airport - NA - 890.0ft\n",
      "Saint Peter's Seaplane Base - NA - 608.0ft\n",
      "Saline Memorial Hospital Heliport - NA - 430.0ft\n",
      "Sandy River Airport - NA - 704.0ft\n",
      "Schertz Aerial Service - Hudson Airport - NA - 755.0ft\n",
      "Schumaier Restricted Landing Area - NA - 555.0ft\n",
      "Seacoast Medical Center Heliport - NA - 73.0ft\n",
      "Seton Medical Center Hays Heliport - NA - 715.0ft\n",
      "Shannon Field - NA - 165.0ft\n",
      "Shannon Medical Center Heliport - NA - 1825.0ft\n",
      "Shell Chemical East Site Heliport - NA - 15.0ft\n",
      "Shingle Mill Heliport - NA - 880.0ft\n",
      "Slater Field - NA - 45.0ft\n",
      "Smith Field - NA - 505.0ft\n",
      "Spangle Field - NA - 2440.0ft\n",
      "St Claire Healthcare Heliport - NA - 781.0ft\n",
      "St James Heliport - NA - 10.0ft\n",
      "St Mary Medical Center Heliport - NA - 634.0ft\n",
      "St Vincent General Hospital Heliport - NA - 10175.0ft\n",
      "Steel Systems Heliport - NA - 195.0ft\n",
      "Stender Airport - NA - 725.0ft\n",
      "Stottle Memorial Heliport - NA - 591.0ft\n",
      "Strangers Point Heliport - NA - 540.0ft\n",
      "Sun View Field Airport - NA - 980.0ft\n",
      "Swansboro Country Airport - NA - 2594.0ft\n",
      "Swepi Beta Platform Ellen Heliport - NA - 122.0ft\n",
      "Talmage Field - NA - 95.0ft\n",
      "Tampa General Hospital Brandon Healthplex Heliport - NA - 37.0ft\n",
      "Tcjc-Northeast Campus Heliport - NA - 600.0ft\n",
      "The Farm Airport - NA - 375.0ft\n",
      "The Greenhouse Airport - NA - 320.0ft\n",
      "The Palms At Kitty Hawk Airport - NA - 3235.0ft\n",
      "Thirty Thirty Matlock Office Center Heliport - NA - 630.0ft\n",
      "Thompson International Aviation Airport - NA - 4275.0ft\n",
      "Topsail Airpark - NA - 65.0ft\n",
      "Total Rf Heliport - NA - 11.0ft\n",
      "Trapper T Heliport - NA - 159.0ft\n",
      "Troy Airpark - NA - 650.0ft\n",
      "Turkey Run Airport - NA - 765.0ft\n",
      "Upper Chesapeake Medical Center Heliport - NA - 302.0ft\n",
      "Utirik Airport - OC - 4.0ft\n",
      "Valley Grain Heliport - NA - 1160.0ft\n",
      "Van Gorder Airport - NA - 728.0ft\n",
      "Vaughan Airport - NA - 551.0ft\n",
      "Vicksburg Medical Center Heliport - NA - 110.0ft\n",
      "Ware Island Airport - NA - 344.0ft\n",
      "Watts Field - NA - 153.0ft\n",
      "Weiss Airfield - NA - 1000.0ft\n",
      "Whidbey General Hospital Heliport - NA - 103.0ft\n",
      "Willapa Harbor Heliport - NA - 154.0ft\n",
      "William E. Koenig Airport - NA - 670.0ft\n",
      "Williams Ag Airport - NA - 87.0ft\n",
      "Windy Hill Heliport - NA - 25.0ft\n",
      "Wise River Airport - NA - 5830.0ft\n",
      "Wix Airport - NA - 750.0ft\n",
      "Yat Heliport - NA - 3300.0ft\n",
      "York Airport - NA - 779.0ft\n",
      "Zimmerman Airport - NA - 614.0ft\n",
      "Zink Airport - NA - 880.0ft\n"
     ]
    }
   ],
   "source": [
    "airports = table_service.query_entities(table_name, \n",
    "                                       select='name,continent,elevation')\n",
    "for airport in airports:\n",
    "    print(f\"{airport.name} - {airport.continent} - {airport.elevation}ft\")"
   ]
  },
  {
   "cell_type": "markdown",
   "metadata": {
    "azdata_cell_guid": "935689d7-659b-4dbe-a49a-4cfacf03f93c"
   },
   "source": [
    "4\\. Which airport(s) are not in North America?"
   ]
  },
  {
   "cell_type": "code",
   "execution_count": 22,
   "metadata": {
    "azdata_cell_guid": "0ec84674-faef-45e7-9e4b-85c384bf1a59",
    "tags": []
   },
   "outputs": [
    {
     "name": "stdout",
     "output_type": "stream",
     "text": [
      "Utirik Airport - OC (MH) - 4.0ft\n"
     ]
    }
   ],
   "source": [
    "airports = table_service.query_entities(table_name, \n",
    "                                        filter=\"continent ne 'NA'\",\n",
    "                                       select='name,continent,country,elevation')\n",
    "for airport in airports:\n",
    "    print(f\"{airport.name} - {airport.continent} ({airport.country}) - {airport.elevation}ft\")"
   ]
  },
  {
   "cell_type": "markdown",
   "metadata": {
    "azdata_cell_guid": "8402b8e3-4c30-4825-a34e-be2e78324b1f"
   },
   "source": [
    "5\\. Which airport types are represented in this sample?"
   ]
  },
  {
   "cell_type": "code",
   "execution_count": 23,
   "metadata": {
    "azdata_cell_guid": "edcb93b4-e76b-4a0e-b901-dc449f1d41da",
    "tags": []
   },
   "outputs": [
    {
     "name": "stdout",
     "output_type": "stream",
     "text": [
      "small_airport    156\n",
      "heliport          86\n",
      "seaplane_base      8\n",
      "Name: PartitionKey, dtype: int64\n"
     ]
    }
   ],
   "source": [
    "airports = table_service.query_entities(table_name)\n",
    "\n",
    "import pandas as pd\n",
    "df = pd.DataFrame(airports)\n",
    "print(df.PartitionKey.value_counts())"
   ]
  },
  {
   "cell_type": "markdown",
   "metadata": {
    "azdata_cell_guid": "28aacb97-1326-4470-abdb-9f9124892231"
   },
   "source": [
    "6\\. What are the names of the airports that are heliports or seaplane bases in Texas?\n",
    "\n",
    "Hint: region is country-state abbreviation.  For example, Minnesota's region code would be US-MN."
   ]
  },
  {
   "cell_type": "code",
   "execution_count": 26,
   "metadata": {
    "azdata_cell_guid": "e12b803b-54be-4e17-be35-66de4f0d44e3"
   },
   "outputs": [
    {
     "name": "stdout",
     "output_type": "stream",
     "text": [
      "Alpine Range Airport\n",
      "Barronena Ranch Airport\n",
      "Baylor Medical Center Heliport\n",
      "Creekside Airport\n",
      "JLS Farms Airport\n",
      "L P Askew Farms Airport\n",
      "M D K Field\n",
      "Matagorda Shore Facility Heliport\n",
      "Meadowood Ranch Heliport\n",
      "Seton Medical Center Hays Heliport\n",
      "Shannon Medical Center Heliport\n",
      "Smith Field\n",
      "Tcjc-Northeast Campus Heliport\n",
      "The Palms At Kitty Hawk Airport\n",
      "Thirty Thirty Matlock Office Center Heliport\n"
     ]
    }
   ],
   "source": [
    "airports = table_service.query_entities(table_name,\n",
    "                                       filter=\"region eq 'US-TX'\",\n",
    "                                       select='name')\n",
    "\n",
    "for airport in airports:\n",
    "    print(f\"{airport.name}\")"
   ]
  },
  {
   "cell_type": "markdown",
   "metadata": {
    "azdata_cell_guid": "bbb9f4dc-4543-4b95-b840-2aea9d97a4ea"
   },
   "source": [
    "7\\. What are the airports in Colorado with an elevation greater than 5000 feet?"
   ]
  },
  {
   "cell_type": "code",
   "execution_count": 27,
   "metadata": {
    "azdata_cell_guid": "340ffea8-8f81-4e2e-b4e6-6b7238727919"
   },
   "outputs": [
    {
     "name": "stdout",
     "output_type": "stream",
     "text": [
      "Mc Cullough Airport(US-CO) - 7615.0ft\n",
      "St Vincent General Hospital Heliport(US-CO) - 10175.0ft\n"
     ]
    }
   ],
   "source": [
    "airports = table_service.query_entities(table_name,\n",
    "                                       filter=\"region eq 'US-CO' and elevation gt 5000\",\n",
    "                                       select='name,region,elevation')\n",
    "\n",
    "for airport in airports:\n",
    "    print(f\"{airport.name}({airport.region}) - {airport.elevation}ft\")"
   ]
  },
  {
   "cell_type": "markdown",
   "metadata": {
    "azdata_cell_guid": "836459b2-8091-4499-9f8f-77fdb0c97fd9"
   },
   "source": [
    "8\\. What regions are represented in this sample?"
   ]
  },
  {
   "cell_type": "code",
   "execution_count": 28,
   "metadata": {
    "azdata_cell_guid": "bf4bc454-d6d1-445a-9fa8-928f0951367a"
   },
   "outputs": [
    {
     "name": "stdout",
     "output_type": "stream",
     "text": [
      "US-TX     15\n",
      "US-FL     13\n",
      "US-IL     12\n",
      "US-PA     11\n",
      "US-CA     11\n",
      "US-IN     11\n",
      "US-LA     10\n",
      "US-WA     10\n",
      "US-KS      9\n",
      "US-AK      8\n",
      "US-OH      7\n",
      "US-GA      6\n",
      "US-KY      6\n",
      "US-MD      5\n",
      "US-OR      5\n",
      "US-MI      5\n",
      "US-ID      5\n",
      "US-ME      5\n",
      "US-MN      5\n",
      "US-MO      5\n",
      "US-AL      5\n",
      "US-VA      5\n",
      "US-MA      4\n",
      "US-NY      4\n",
      "US-TN      4\n",
      "US-NC      4\n",
      "US-IA      4\n",
      "US-SC      4\n",
      "US-WI      4\n",
      "US-NJ      4\n",
      "US-NV      4\n",
      "US-CO      3\n",
      "US-NH      3\n",
      "US-MS      3\n",
      "US-OK      3\n",
      "US-UT      3\n",
      "US-AZ      3\n",
      "US-AR      3\n",
      "US-MT      3\n",
      "US-CT      3\n",
      "US-NE      3\n",
      "US-HI      2\n",
      "US-WY      2\n",
      "PR-U-A     1\n",
      "US-SD      1\n",
      "US-NM      1\n",
      "US-WV      1\n",
      "US-ND      1\n",
      "MH-UTI     1\n",
      "Name: region, dtype: int64\n"
     ]
    }
   ],
   "source": [
    "airports = table_service.query_entities(table_name)\n",
    "\n",
    "import pandas as pd\n",
    "df = pd.DataFrame(airports)\n",
    "print(df.region.value_counts())"
   ]
  },
  {
   "cell_type": "markdown",
   "metadata": {
    "azdata_cell_guid": "5faaaf35-e0dd-41fd-80f1-ab5fb1d80b63"
   },
   "source": [
    "9\\. What are the airport details for the airport in the region of `PR-U-A`?"
   ]
  },
  {
   "cell_type": "code",
   "execution_count": 29,
   "metadata": {
    "azdata_cell_guid": "d8115fab-261b-478e-b61d-4b0ee3586179"
   },
   "outputs": [
    {
     "data": {
      "text/plain": [
       "[{'PartitionKey': 'small_airport',\n",
       "  'RowKey': '175',\n",
       "  'Timestamp': datetime.datetime(2021, 8, 10, 19, 58, 32, 764109, tzinfo=tzlocal()),\n",
       "  'name': 'Cuylers Airport',\n",
       "  'continent': 'NA',\n",
       "  'elevation': 15.0,\n",
       "  'country': 'PR',\n",
       "  'region': 'PR-U-A',\n",
       "  'etag': 'W/\"datetime\\'2021-08-10T19%3A58%3A32.7641091Z\\'\"'}]"
      ]
     },
     "execution_count": 29,
     "metadata": {},
     "output_type": "execute_result"
    }
   ],
   "source": [
    "airports = table_service.query_entities(table_name,\n",
    "                                       filter=\"region eq 'PR-U-A'\")\n",
    "list(airports)"
   ]
  },
  {
   "cell_type": "markdown",
   "metadata": {
    "azdata_cell_guid": "bcba62f9-d2ff-4a77-a407-acc4bcb29aef"
   },
   "source": [
    "10\\. We have already looked at Texas.  Let's look at the second more represented state - Florida.  What are the names, types, and elevations for the airports in Florida?"
   ]
  },
  {
   "cell_type": "code",
   "execution_count": 30,
   "metadata": {
    "azdata_cell_guid": "50dc824e-f695-4dc6-84bb-957b98b566da"
   },
   "outputs": [
    {
     "name": "stdout",
     "output_type": "stream",
     "text": [
      "Advent Health Altamonte Springs Heliport (heliport) - 86.0ft\n",
      "Cedar Knoll Flying Ranch Airport (small_airport) - 19.0ft\n",
      "Cross Creek Farms Airport (small_airport) - 30.0ft\n",
      "Grass Patch Airport (small_airport) - 53.0ft\n",
      "Hilliard Airpark (small_airport) - 59.0ft\n",
      "Lake Persimmon Airstrip (small_airport) - 70.0ft\n",
      "Osborn Airfield (small_airport) - 121.0ft\n",
      "Ranger Heliport (heliport) - 20.0ft\n",
      "Richards Field (small_airport) - 9.0ft\n",
      "Ringhaver Heliport (heliport) - 25.0ft\n",
      "River Oak Airport (small_airport) - 35.0ft\n",
      "Rybolt Ranch Airport (small_airport) - 55.0ft\n",
      "Tampa General Hospital Brandon Healthplex Heliport (heliport) - 37.0ft\n"
     ]
    }
   ],
   "source": [
    "airports = table_service.query_entities(table_name,\n",
    "                                       filter=\"region eq 'US-FL'\",\n",
    "                                       select='name,PartitionKey,elevation')\n",
    "\n",
    "for airport in airports:\n",
    "    print(f\"{airport.name} ({airport.PartitionKey}) - {airport.elevation}ft\")"
   ]
  },
  {
   "cell_type": "code",
   "execution_count": null,
   "metadata": {},
   "outputs": [],
   "source": []
  }
 ],
 "metadata": {
  "kernelspec": {
   "display_name": "Python 3 (ipykernel)",
   "language": "python",
   "name": "python3"
  },
  "language_info": {
   "codemirror_mode": {
    "name": "ipython",
    "version": 3
   },
   "file_extension": ".py",
   "mimetype": "text/x-python",
   "name": "python",
   "nbconvert_exporter": "python",
   "pygments_lexer": "ipython3",
   "version": "3.9.9"
  }
 },
 "nbformat": 4,
 "nbformat_minor": 2
}
