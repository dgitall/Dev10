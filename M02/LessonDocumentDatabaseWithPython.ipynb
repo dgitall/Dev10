{
 "cells": [
  {
   "cell_type": "code",
   "execution_count": 13,
   "id": "da29e49c",
   "metadata": {},
   "outputs": [],
   "source": [
    "import pymongo\n",
    "\n",
    "username = 'gen10-dbc-aug2021-mongodb-api'\n",
    "password = 'Heg2xgpgEj2YcwQ5jjPjcP8gJVaiJb3jSQvjIDF9BuGSemxNbfyJK7494hdizjB3Zo9LqwrKUCQSuygLGRSnwQ=='\n",
    "host = 'gen10-dbc-aug2021-mongodb-api.mongo.cosmos.azure.com'\n",
    "port = '10255'\n",
    "\n",
    "uri = f\"mongodb://{username}:{password}@{host}:{port}/?ssl=true&retrywrites=false&replicaSet=globaldb&maxIdleTimeMS=120000&appName=@{username}@\"\n",
    "client = pymongo.MongoClient(uri)"
   ]
  },
  {
   "cell_type": "code",
   "execution_count": 14,
   "id": "d6d84290",
   "metadata": {},
   "outputs": [],
   "source": [
    "database_name = 'library'\n",
    "collection_name = 'books'\n",
    "collection = client.get_database(database_name).get_collection(collection_name)"
   ]
  },
  {
   "cell_type": "code",
   "execution_count": 15,
   "id": "ba874faa",
   "metadata": {},
   "outputs": [
    {
     "data": {
      "text/plain": [
       "[{'_id': ObjectId('612684b9dce37e12146871ef'),\n",
       "  'title': 'Knowledge is Beautiful',\n",
       "  'author': 'David McCandless',\n",
       "  'tags': ['visualization'],\n",
       "  'msrp': 30.0},\n",
       " {'_id': ObjectId('612684dfdce37e12146871f0'),\n",
       "  'title': 'The Visual Miscellaneum',\n",
       "  'author': 'David McCandless',\n",
       "  'tags': ['trivia', 'visualization'],\n",
       "  'msrp': 49.75},\n",
       " {'_id': ObjectId('612684dfdce37e12146871f1'),\n",
       "  'title': 'Datavision²',\n",
       "  'author': 'David McCandless, Anna Postel',\n",
       "  'tags': ['visualization'],\n",
       "  'msrp': 40.35},\n",
       " {'_id': ObjectId('612684dfdce37e12146871f2'),\n",
       "  'title': 'Nuts About Data',\n",
       "  'author': 'Amer Meor',\n",
       "  'tags': ['visualization'],\n",
       "  'msrp': 9.99},\n",
       " {'_id': ObjectId('612684dfdce37e12146871f3'),\n",
       "  'title': 'Storytelling with Data',\n",
       "  'author': 'Cole Nussbaumer Knafic',\n",
       "  'tags': ['storytelling', 'visualization'],\n",
       "  'msrp': 39.95},\n",
       " {'_id': ObjectId('612684dfdce37e12146871f4'),\n",
       "  'title': 'The Book of Circles',\n",
       "  'author': 'Manuel Lima',\n",
       "  'tags': ['visualization'],\n",
       "  'msrp': 40.0},\n",
       " {'_id': ObjectId('612684dfdce37e12146871f5'),\n",
       "  'title': 'The Truthful Art',\n",
       "  'author': 'Alberto Cairo',\n",
       "  'tags': ['storytelling', 'visualization'],\n",
       "  'msrp': 49.99}]"
      ]
     },
     "execution_count": 15,
     "metadata": {},
     "output_type": "execute_result"
    }
   ],
   "source": [
    "list(collection.find())"
   ]
  },
  {
   "cell_type": "code",
   "execution_count": 16,
   "id": "81b4b495",
   "metadata": {},
   "outputs": [
    {
     "data": {
      "text/plain": [
       "'author_1'"
      ]
     },
     "execution_count": 16,
     "metadata": {},
     "output_type": "execute_result"
    }
   ],
   "source": [
    "collection.create_index('title')\n",
    "collection.create_index('author')"
   ]
  },
  {
   "cell_type": "code",
   "execution_count": 17,
   "id": "4f0ff05d",
   "metadata": {},
   "outputs": [
    {
     "data": {
      "text/plain": [
       "[{'_id': ObjectId('612684dfdce37e12146871f4'),\n",
       "  'title': 'The Book of Circles',\n",
       "  'author': 'Manuel Lima',\n",
       "  'tags': ['visualization'],\n",
       "  'msrp': 40.0},\n",
       " {'_id': ObjectId('612684dfdce37e12146871f1'),\n",
       "  'title': 'Datavision²',\n",
       "  'author': 'David McCandless, Anna Postel',\n",
       "  'tags': ['visualization'],\n",
       "  'msrp': 40.35},\n",
       " {'_id': ObjectId('612684dfdce37e12146871f0'),\n",
       "  'title': 'The Visual Miscellaneum',\n",
       "  'author': 'David McCandless',\n",
       "  'tags': ['trivia', 'visualization'],\n",
       "  'msrp': 49.75},\n",
       " {'_id': ObjectId('612684b9dce37e12146871ef'),\n",
       "  'title': 'Knowledge is Beautiful',\n",
       "  'author': 'David McCandless',\n",
       "  'tags': ['visualization'],\n",
       "  'msrp': 30.0},\n",
       " {'_id': ObjectId('612684dfdce37e12146871f3'),\n",
       "  'title': 'Storytelling with Data',\n",
       "  'author': 'Cole Nussbaumer Knafic',\n",
       "  'tags': ['storytelling', 'visualization'],\n",
       "  'msrp': 39.95},\n",
       " {'_id': ObjectId('612684dfdce37e12146871f2'),\n",
       "  'title': 'Nuts About Data',\n",
       "  'author': 'Amer Meor',\n",
       "  'tags': ['visualization'],\n",
       "  'msrp': 9.99},\n",
       " {'_id': ObjectId('612684dfdce37e12146871f5'),\n",
       "  'title': 'The Truthful Art',\n",
       "  'author': 'Alberto Cairo',\n",
       "  'tags': ['storytelling', 'visualization'],\n",
       "  'msrp': 49.99}]"
      ]
     },
     "execution_count": 17,
     "metadata": {},
     "output_type": "execute_result"
    }
   ],
   "source": [
    "list(collection.find().sort(\"author\",pymongo.DESCENDING))"
   ]
  },
  {
   "cell_type": "code",
   "execution_count": 18,
   "id": "e10dceec",
   "metadata": {},
   "outputs": [
    {
     "data": {
      "text/plain": [
       "[{'_id': ObjectId('612684b9dce37e12146871ef'),\n",
       "  'title': 'Knowledge is Beautiful',\n",
       "  'author': 'David McCandless',\n",
       "  'tags': ['visualization'],\n",
       "  'msrp': 30.0},\n",
       " {'_id': ObjectId('612684dfdce37e12146871f0'),\n",
       "  'title': 'The Visual Miscellaneum',\n",
       "  'author': 'David McCandless',\n",
       "  'tags': ['trivia', 'visualization'],\n",
       "  'msrp': 49.75},\n",
       " {'_id': ObjectId('612684dfdce37e12146871f1'),\n",
       "  'title': 'Datavision²',\n",
       "  'author': 'David McCandless, Anna Postel',\n",
       "  'tags': ['visualization'],\n",
       "  'msrp': 40.35}]"
      ]
     },
     "execution_count": 18,
     "metadata": {},
     "output_type": "execute_result"
    }
   ],
   "source": [
    "list(collection.find({'author':{\"$regex\":\"David\"}}))\n"
   ]
  },
  {
   "cell_type": "code",
   "execution_count": 19,
   "id": "cc26e349",
   "metadata": {},
   "outputs": [
    {
     "data": {
      "text/plain": [
       "[{'_id': ObjectId('612684dfdce37e12146871f0'),\n",
       "  'title': 'The Visual Miscellaneum',\n",
       "  'author': 'David McCandless',\n",
       "  'tags': ['trivia', 'visualization'],\n",
       "  'msrp': 49.75}]"
      ]
     },
     "execution_count": 19,
     "metadata": {},
     "output_type": "execute_result"
    }
   ],
   "source": [
    "list(collection.find({'tags':{\"$all\":['trivia','visualization']}}))"
   ]
  },
  {
   "cell_type": "code",
   "execution_count": 20,
   "id": "c8eb59f4",
   "metadata": {},
   "outputs": [
    {
     "data": {
      "text/plain": [
       "[{'_id': ObjectId('612684dfdce37e12146871f0'),\n",
       "  'title': 'The Visual Miscellaneum',\n",
       "  'author': 'David McCandless',\n",
       "  'tags': ['trivia', 'visualization'],\n",
       "  'msrp': 49.75},\n",
       " {'_id': ObjectId('612684dfdce37e12146871f3'),\n",
       "  'title': 'Storytelling with Data',\n",
       "  'author': 'Cole Nussbaumer Knafic',\n",
       "  'tags': ['storytelling', 'visualization'],\n",
       "  'msrp': 39.95},\n",
       " {'_id': ObjectId('612684dfdce37e12146871f5'),\n",
       "  'title': 'The Truthful Art',\n",
       "  'author': 'Alberto Cairo',\n",
       "  'tags': ['storytelling', 'visualization'],\n",
       "  'msrp': 49.99}]"
      ]
     },
     "execution_count": 20,
     "metadata": {},
     "output_type": "execute_result"
    }
   ],
   "source": [
    "list(collection.find({'tags':{\"$size\":2}}))\n"
   ]
  },
  {
   "cell_type": "code",
   "execution_count": 21,
   "id": "0db5539d",
   "metadata": {},
   "outputs": [
    {
     "data": {
      "text/plain": [
       "[{'_id': ObjectId('612684dfdce37e12146871f2'),\n",
       "  'title': 'Nuts About Data',\n",
       "  'author': 'Amer Meor',\n",
       "  'tags': ['visualization'],\n",
       "  'msrp': 9.99}]"
      ]
     },
     "execution_count": 21,
     "metadata": {},
     "output_type": "execute_result"
    }
   ],
   "source": [
    "list(collection.find({'msrp':{\"$lt\":10.00}}))"
   ]
  },
  {
   "cell_type": "code",
   "execution_count": 22,
   "id": "63eddd29",
   "metadata": {},
   "outputs": [
    {
     "data": {
      "text/plain": [
       "[{'_id': ObjectId('612684b9dce37e12146871ef'),\n",
       "  'title': 'Knowledge is Beautiful',\n",
       "  'author': 'David McCandless',\n",
       "  'tags': ['visualization'],\n",
       "  'msrp': 30.0},\n",
       " {'_id': ObjectId('612684dfdce37e12146871f3'),\n",
       "  'title': 'Storytelling with Data',\n",
       "  'author': 'Cole Nussbaumer Knafic',\n",
       "  'tags': ['storytelling', 'visualization'],\n",
       "  'msrp': 39.95}]"
      ]
     },
     "execution_count": 22,
     "metadata": {},
     "output_type": "execute_result"
    }
   ],
   "source": [
    "list(collection.find({'msrp':{\"$gt\":10.00, \"$lt\":39.99}}))"
   ]
  },
  {
   "cell_type": "code",
   "execution_count": 23,
   "id": "347ac3ed",
   "metadata": {},
   "outputs": [
    {
     "data": {
      "text/plain": [
       "['David McCandless',\n",
       " 'David McCandless, Anna Postel',\n",
       " 'Amer Meor',\n",
       " 'Cole Nussbaumer Knafic',\n",
       " 'Manuel Lima',\n",
       " 'Alberto Cairo']"
      ]
     },
     "execution_count": 23,
     "metadata": {},
     "output_type": "execute_result"
    }
   ],
   "source": [
    "collection.distinct(\"author\")"
   ]
  },
  {
   "cell_type": "code",
   "execution_count": 24,
   "id": "62999572",
   "metadata": {},
   "outputs": [
    {
     "data": {
      "text/plain": [
       "[{'_id': '', 'avgMSRP': 37.14714285714286}]"
      ]
     },
     "execution_count": 24,
     "metadata": {},
     "output_type": "execute_result"
    }
   ],
   "source": [
    "list(collection.aggregate(\n",
    "    [\n",
    "        {\n",
    "            \"$match\": {'tags':{\"$all\":['visualization']}}\n",
    "        },        \n",
    "        {        \n",
    "            \"$group\":\n",
    "            {\n",
    "                '_id': '',\n",
    "                'avgMSRP' : { \"$avg\" : '$msrp'}\n",
    "            }\n",
    "        }\n",
    "    ]\n",
    ")\n",
    ")"
   ]
  },
  {
   "cell_type": "code",
   "execution_count": 25,
   "id": "a3715405",
   "metadata": {},
   "outputs": [
    {
     "data": {
      "text/plain": [
       "[{'_id': 'David McCandless', 'avgMSRP': 39.875},\n",
       " {'_id': 'David McCandless, Anna Postel', 'avgMSRP': 40.35},\n",
       " {'_id': 'Amer Meor', 'avgMSRP': 9.99},\n",
       " {'_id': 'Cole Nussbaumer Knafic', 'avgMSRP': 39.95},\n",
       " {'_id': 'Manuel Lima', 'avgMSRP': 40.0},\n",
       " {'_id': 'Alberto Cairo', 'avgMSRP': 49.99}]"
      ]
     },
     "execution_count": 25,
     "metadata": {},
     "output_type": "execute_result"
    }
   ],
   "source": [
    "list(collection.aggregate(\n",
    "    [\n",
    "        {\n",
    "            \"$group\":\n",
    "            {\n",
    "                '_id': '$author',\n",
    "                'avgMSRP' : { \"$avg\" : '$msrp'}\n",
    "            }\n",
    "        }\n",
    "    ]\n",
    "))"
   ]
  },
  {
   "cell_type": "code",
   "execution_count": null,
   "id": "4b3935cc",
   "metadata": {},
   "outputs": [],
   "source": []
  }
 ],
 "metadata": {
  "kernelspec": {
   "display_name": "Python 3 (ipykernel)",
   "language": "python",
   "name": "python3"
  },
  "language_info": {
   "codemirror_mode": {
    "name": "ipython",
    "version": 3
   },
   "file_extension": ".py",
   "mimetype": "text/x-python",
   "name": "python",
   "nbconvert_exporter": "python",
   "pygments_lexer": "ipython3",
   "version": "3.9.9"
  }
 },
 "nbformat": 4,
 "nbformat_minor": 5
}
