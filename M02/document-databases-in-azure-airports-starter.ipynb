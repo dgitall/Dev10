{
 "cells": [
  {
   "cell_type": "markdown",
   "metadata": {
    "azdata_cell_guid": "37b3c071-c0e6-48d7-8033-0a235441333e"
   },
   "source": [
    "# Exercise - Working with Document Databases in MongoDB API\n",
    "\n",
    "We have pre-loaded some of the code for getting this to work. You will need to fill in the connection information as well as the MongoDB API queries to answer the questions below."
   ]
  },
  {
   "cell_type": "markdown",
   "metadata": {
    "azdata_cell_guid": "231479c5-d924-42c5-9bc2-216a3c174143"
   },
   "source": [
    "The following code will get you a client for querying.  You need the following information:\n",
    "\n",
    "- Username\n",
    "- Password\n",
    "- Host\n",
    "- Port"
   ]
  },
  {
   "cell_type": "code",
   "execution_count": 1,
   "metadata": {
    "azdata_cell_guid": "e920f9b7-807a-40ec-98e8-4c6779c68cbf"
   },
   "outputs": [],
   "source": [
    "import pymongo\n",
    "\n",
    "username = 'gen10-dbc-aug2021-mongodb-api'\n",
    "password = 'Heg2xgpgEj2YcwQ5jjPjcP8gJVaiJb3jSQvjIDF9BuGSemxNbfyJK7494hdizjB3Zo9LqwrKUCQSuygLGRSnwQ=='\n",
    "host = 'gen10-dbc-aug2021-mongodb-api.mongo.cosmos.azure.com'\n",
    "port = '10255'\n",
    "\n",
    "uri = f\"mongodb://{username}:{password}@{host}:{port}/?ssl=true&retrywrites=false&replicaSet=globaldb&maxIdleTimeMS=120000&appName=@{username}@\"\n",
    "client = pymongo.MongoClient(uri)"
   ]
  },
  {
   "cell_type": "markdown",
   "metadata": {
    "azdata_cell_guid": "04976210-a67e-49ce-b3e9-6d5e1ec25488"
   },
   "source": [
    "This code gets our collection set up."
   ]
  },
  {
   "cell_type": "code",
   "execution_count": 2,
   "metadata": {
    "azdata_cell_guid": "c543902e-8ef0-43e7-a738-8d6a6aa7624b",
    "tags": []
   },
   "outputs": [],
   "source": [
    "database_name = 'airports'\n",
    "collection_name = 'airports'\n",
    "collection = client.get_database(database_name).get_collection(collection_name)"
   ]
  },
  {
   "cell_type": "markdown",
   "metadata": {
    "azdata_cell_guid": "c64ec6d4-a3ad-4563-a7fd-4c6efdd8c615"
   },
   "source": [
    "## Exercise Questions\n",
    "\n",
    "Please answer the questions below with the respective MongoDB API queries.  If the connection information is set up properly, you can execute the code cells to confirm your responses.\n",
    "\n",
    "Each question is set up to print the solution.  You need to fill in the `find()`, `distinct()`, `sort()`, and `limit()` portions as necessary."
   ]
  },
  {
   "cell_type": "markdown",
   "metadata": {
    "azdata_cell_guid": "34b6aaec-4f7c-4515-939e-724b2fb85e76"
   },
   "source": [
    "1\\. How many airports are in this dataset?"
   ]
  },
  {
   "cell_type": "code",
   "execution_count": 3,
   "metadata": {
    "azdata_cell_guid": "54aa0d62-285f-472e-9e1e-5411f3293121",
    "tags": []
   },
   "outputs": [
    {
     "data": {
      "text/plain": [
       "250"
      ]
     },
     "execution_count": 3,
     "metadata": {},
     "output_type": "execute_result"
    }
   ],
   "source": [
    "airports = collection.find()\n",
    "len(list(airports))"
   ]
  },
  {
   "cell_type": "markdown",
   "metadata": {
    "azdata_cell_guid": "689f6bbf-23ed-4743-9b31-5c5755659f33"
   },
   "source": [
    "2\\. What are the unique `iso_country` values?"
   ]
  },
  {
   "cell_type": "code",
   "execution_count": 4,
   "metadata": {
    "azdata_cell_guid": "9085da91-3d0a-4a49-883d-f3454dc2f2cf"
   },
   "outputs": [
    {
     "data": {
      "text/plain": [
       "['US', 'PR', 'MH']"
      ]
     },
     "execution_count": 4,
     "metadata": {},
     "output_type": "execute_result"
    }
   ],
   "source": [
    "collection.distinct('iso_country')"
   ]
  },
  {
   "cell_type": "markdown",
   "metadata": {
    "azdata_cell_guid": "295aa51d-5f8f-455d-a70f-9135823dbef9"
   },
   "source": [
    "3\\. How many heliports are in this sample?  Hint: Look at the `type` field."
   ]
  },
  {
   "cell_type": "code",
   "execution_count": 5,
   "metadata": {
    "azdata_cell_guid": "b0f43424-c005-45c0-a179-41c5e2c5f6f5"
   },
   "outputs": [
    {
     "data": {
      "text/plain": [
       "86"
      ]
     },
     "execution_count": 5,
     "metadata": {},
     "output_type": "execute_result"
    }
   ],
   "source": [
    "heliports = collection.find({'type':{\"$eq\":\"heliport\"}})\n",
    "len(list(heliports))"
   ]
  },
  {
   "cell_type": "markdown",
   "metadata": {
    "azdata_cell_guid": "4b4eb60b-9dbd-41b3-a7a3-8e7a9c11b2d0"
   },
   "source": [
    "4\\. How many airports have \"Air\" in their name?\n",
    "\n",
    "Hint: Use $regex."
   ]
  },
  {
   "cell_type": "code",
   "execution_count": 6,
   "metadata": {
    "azdata_cell_guid": "d7cb52c6-15f6-4b88-aed4-8ae133bba7f1",
    "tags": []
   },
   "outputs": [
    {
     "data": {
      "text/plain": [
       "128"
      ]
     },
     "execution_count": 6,
     "metadata": {},
     "output_type": "execute_result"
    }
   ],
   "source": [
    "air_airports = collection.find({'name':{\"$regex\":\"Air\"}})\n",
    "len(list(air_airports))"
   ]
  },
  {
   "cell_type": "markdown",
   "metadata": {
    "azdata_cell_guid": "4a3bb2fd-be54-483a-96f4-c4d734af6444"
   },
   "source": [
    "5\\. Which airports are greater than 1000ft and less than 1500ft in elevation?"
   ]
  },
  {
   "cell_type": "code",
   "execution_count": 7,
   "metadata": {
    "azdata_cell_guid": "66ccafdc-4441-4c4b-abf1-1a2878375929",
    "tags": []
   },
   "outputs": [
    {
     "name": "stdout",
     "output_type": "stream",
     "text": [
      "Barnes Seaplane Base(seaplane_base) - 1358\n",
      "Battle Lake Municipal Airport(small_airport) - 1365\n",
      "Boone County Hospital Heliport(heliport) - 1160\n",
      "Caldwell Municipal Airport(small_airport) - 1157\n",
      "Ferrell Field(small_airport) - 1301\n",
      "Flying N Ranch Airport(small_airport) - 1485\n",
      "Fulton Airport(small_airport) - 1100\n",
      "Galion Community Hospital Heliport(heliport) - 1140\n",
      "Greenbush Municipal Airport(small_airport) - 1070\n",
      "Hayden Farm Airport(small_airport) - 1100\n",
      "Helblad Airport(small_airport) - 1195\n",
      "Iroquois Landing Seaplane Base(seaplane_base) - 1180\n",
      "Jmj Landing Airport(small_airport) - 1170\n",
      "Lag Iii Heliport(heliport) - 1070\n",
      "Nauerth Land Ranch Airport(small_airport) - 1435\n",
      "Nort's Resort Airport(small_airport) - 1040\n",
      "Olafson Brothers Airport(small_airport) - 1045\n",
      "Ragsdale Road Airport(small_airport) - 1100\n",
      "Robbins Roost Airport(small_airport) - 1265\n",
      "Valley Grain Heliport(heliport) - 1160\n"
     ]
    }
   ],
   "source": [
    "airports = collection.find({'elevation_ft':{\"$gt\":1000, \"$lt\":1500}})\n",
    "for airport in list(airports):\n",
    "    print(f\"{airport['name']}({airport['type']}) - {airport['elevation_ft']}\")"
   ]
  },
  {
   "cell_type": "markdown",
   "metadata": {
    "azdata_cell_guid": "693b69da-c0f1-4a2c-b0a0-3a94659bc797"
   },
   "source": [
    "6\\. Which airports are in the iso\\_country US?  Sort the results in order of highest elevation to lowest elevation.  Show the first 20 records."
   ]
  },
  {
   "cell_type": "code",
   "execution_count": 10,
   "metadata": {
    "azdata_cell_guid": "88e8edac-781d-42b3-a793-f337f5fb330e",
    "tags": []
   },
   "outputs": [
    {
     "name": "stdout",
     "output_type": "stream",
     "text": [
      "St Vincent General Hospital Heliport (heliport) - 10175\n",
      "Mc Cullough Airport (small_airport) - 7615\n",
      "Llama Ranch Airport (small_airport) - 6120\n",
      "La Sal Junction Airport (small_airport) - 6000\n",
      "Wise River Airport (small_airport) - 5830\n",
      "Morgan Ranch Airport (small_airport) - 5634\n",
      "A Z Minerals Corporation Airport (small_airport) - 5315\n",
      "Mountain View Regional Hospital Heliport (heliport) - 5268\n",
      "Lava Hot Springs Airport (small_airport) - 5268\n",
      "Conover Air Lodge Airport (small_airport) - 5160\n",
      "Duckwater Airport (small_airport) - 5124\n",
      "Kugel-Strong Airport (small_airport) - 4950\n",
      "Lantana Ranch Airport (small_airport) - 4600\n",
      "Paiute Meadows Airport (small_airport) - 4443\n",
      "Lucin Airport (small_airport) - 4412\n",
      "Thompson International Aviation Airport (small_airport) - 4275\n",
      "Keyhole Airport (small_airport) - 4250\n",
      "Cordes Airport (small_airport) - 3810\n",
      "Lugo Substation Heliport (heliport) - 3733\n",
      "Champion Ranch Airport (small_airport) - 3630\n"
     ]
    }
   ],
   "source": [
    "airports = collection.find({'iso_country':{\"$eq\":\"US\"}}).sort(\"elevation_ft\",pymongo.DESCENDING).limit(20)\n",
    "for airport in list(airports):\n",
    "    print(f\"{airport['name']} ({airport['type']}) - {airport['elevation_ft']}\")"
   ]
  },
  {
   "cell_type": "markdown",
   "metadata": {
    "azdata_cell_guid": "5cafaef8-aa8d-424c-9249-84c056ea71b9"
   },
   "source": [
    "7\\. We want to display these airports on a page 15 results at a time, sorted by type and then highest elevation to lowest elevation.  Get the results for the first page."
   ]
  },
  {
   "cell_type": "code",
   "execution_count": 12,
   "metadata": {
    "azdata_cell_guid": "7be80c5b-6521-4ffc-9218-0c65ff6cef5a",
    "tags": []
   },
   "outputs": [
    {
     "name": "stdout",
     "output_type": "stream",
     "text": [
      "Ac & R Components Heliport\n",
      "Type: heliport\n",
      "Elevation: 600\n",
      "GPS coordinates: 39.6652984619, -89.7055969238\n",
      "---------------\n",
      "Advent Health Altamonte Springs Heliport\n",
      "Type: heliport\n",
      "Elevation: 86\n",
      "GPS coordinates: 28.666639, -81.3697\n",
      "---------------\n",
      "Albert Guido Memorial Heliport\n",
      "Type: heliport\n",
      "Elevation: 10\n",
      "GPS coordinates: 40.7417984009, -74.1371002197\n",
      "---------------\n",
      "Anniston AHP (Anniston Army Depot)\n",
      "Type: heliport\n",
      "Elevation: 686\n",
      "GPS coordinates: 33.62639999, -85.96720123\n",
      "---------------\n",
      "Bailey Generation Station Heliport\n",
      "Type: heliport\n",
      "Elevation: 600\n",
      "GPS coordinates: 41.6445007324, -87.1228027344\n",
      "---------------\n",
      "Baylor Medical Center Heliport\n",
      "Type: heliport\n",
      "Elevation: 560\n",
      "GPS coordinates: 32.395401001, -96.8641967773\n",
      "---------------\n",
      "Berlin Fairgrounds Heliport\n",
      "Type: heliport\n",
      "Elevation: 60\n",
      "GPS coordinates: 41.6273002625, -72.7275009155\n",
      "---------------\n",
      "Boone County Hospital Heliport\n",
      "Type: heliport\n",
      "Elevation: 1160\n",
      "GPS coordinates: 42.056098938, -93.8779983521\n",
      "---------------\n",
      "Boone National Guard Heliport\n",
      "Type: heliport\n",
      "Elevation: 760\n",
      "GPS coordinates: 38.190282, -84.906442\n",
      "---------------\n",
      "Caffrey Heliport\n",
      "Type: heliport\n",
      "Elevation: 957\n",
      "GPS coordinates: 33.889245, -84.73793\n",
      "---------------\n",
      "Chesapeake City Heliport\n",
      "Type: heliport\n",
      "Elevation: 40\n",
      "GPS coordinates: 39.5181007385, -75.8214035034\n",
      "---------------\n",
      "Cleveland Clinic, Marymount Hospital Heliport\n",
      "Type: heliport\n",
      "Elevation: 890\n",
      "GPS coordinates: 41.420312, -81.599552\n",
      "---------------\n",
      "Colgate-Piscataway Heliport\n",
      "Type: heliport\n",
      "Elevation: 78\n",
      "GPS coordinates: 40.5209007263, -74.4746017456\n",
      "---------------\n",
      "Collegeville Heliport\n",
      "Type: heliport\n",
      "Elevation: 197\n",
      "GPS coordinates: 40.1628990173, -75.4656982422\n",
      "---------------\n",
      "Community Hospital Heliport\n",
      "Type: heliport\n",
      "Elevation: 890\n",
      "GPS coordinates: 40.1309013367, -85.6958007812\n",
      "---------------\n"
     ]
    }
   ],
   "source": [
    "results = collection.find().sort(\"elevation_ft\",pymongo.DESCENDING).sort(\"type\").limit(15)\n",
    "for result in list(results):\n",
    "    print(f\"{result['name']}\")\n",
    "    print(f\"Type: {result['type']}\")\n",
    "    print(f\"Elevation: {result['elevation_ft']}\")\n",
    "    print(f\"GPS coordinates: {result['latitude_deg']}, {result['longitude_deg']}\")\n",
    "    print(\"---------------\")"
   ]
  },
  {
   "cell_type": "markdown",
   "metadata": {
    "azdata_cell_guid": "d560199d-95c5-452f-8d9c-a62b6741ad22"
   },
   "source": [
    "8\\. Get us the results for the third page."
   ]
  },
  {
   "cell_type": "code",
   "execution_count": 14,
   "metadata": {
    "azdata_cell_guid": "53532d6a-1491-4eb3-8bca-7d93c93bcf94"
   },
   "outputs": [
    {
     "name": "stdout",
     "output_type": "stream",
     "text": [
      "Hoopeston Community Memorial Hospital Heliport\n",
      "Type: heliport\n",
      "Elevation: 583\n",
      "GPS coordinates: 40.4585990906, -87.6595001221\n",
      "---------------\n",
      "Hscmh Heliport\n",
      "Type: heliport\n",
      "Elevation: 350\n",
      "GPS coordinates: 34.3576011658, -92.7884979248\n",
      "---------------\n",
      "K3 Helipad Heliport\n",
      "Type: heliport\n",
      "Elevation: 9\n",
      "GPS coordinates: 21.3619995117, -157.9510040283\n",
      "---------------\n",
      "Kaupulehu Heliport\n",
      "Type: heliport\n",
      "Elevation: 43\n",
      "GPS coordinates: 19.832715, -155.980233\n",
      "---------------\n",
      "Kitchen Creek Helibase Heliport\n",
      "Type: heliport\n",
      "Elevation: 3350\n",
      "GPS coordinates: 32.7273736, -116.4597417\n",
      "---------------\n",
      "La National Guard Heliport\n",
      "Type: heliport\n",
      "Elevation: 52\n",
      "GPS coordinates: 30.446100235, -91.1053009033\n",
      "---------------\n",
      "La State Police Troop G Heliport\n",
      "Type: heliport\n",
      "Elevation: 168\n",
      "GPS coordinates: 32.5312995911, -93.6602020264\n",
      "---------------\n",
      "Lag Iii Heliport\n",
      "Type: heliport\n",
      "Elevation: 1070\n",
      "GPS coordinates: 40.4383010864, -79.7699966431\n",
      "---------------\n",
      "Lorden Heliport\n",
      "Type: heliport\n",
      "Elevation: 400\n",
      "GPS coordinates: 42.8153991699, -71.1243972778\n",
      "---------------\n",
      "Los Angeles County Sheriff's Department Heliport\n",
      "Type: heliport\n",
      "Elevation: 300\n",
      "GPS coordinates: 34.0377998352, -118.1539993286\n",
      "---------------\n",
      "Lourdes Hospital Heliport\n",
      "Type: heliport\n",
      "Elevation: 419\n",
      "GPS coordinates: 37.051700592, -88.6468963623\n",
      "---------------\n",
      "Lugo Substation Heliport\n",
      "Type: heliport\n",
      "Elevation: 3733\n",
      "GPS coordinates: 34.3682405917, -117.370058745\n",
      "---------------\n",
      "M D K Field\n",
      "Type: heliport\n",
      "Elevation: 50\n",
      "GPS coordinates: 29.5816001892, -95.3071975708\n",
      "---------------\n",
      "M.P. Metals Heliport\n",
      "Type: heliport\n",
      "Elevation: 479\n",
      "GPS coordinates: 41.066861, -76.180806\n",
      "---------------\n",
      "Matagorda Shore Facility Heliport\n",
      "Type: heliport\n",
      "Elevation: 5\n",
      "GPS coordinates: 28.7213993073, -95.8738021851\n",
      "---------------\n"
     ]
    }
   ],
   "source": [
    "page_number = 3\n",
    "number_of_results = 15\n",
    "results = collection.find().sort(\"elevation_ft\",pymongo.DESCENDING).sort(\"type\").skip((page_number-1) * number_of_results).limit(number_of_results)\n",
    "for result in list(results):\n",
    "    print(f\"{result['name']}\")\n",
    "    print(f\"Type: {result['type']}\")\n",
    "    print(f\"Elevation: {result['elevation_ft']}\")\n",
    "    print(f\"GPS coordinates: {result['latitude_deg']}, {result['longitude_deg']}\")\n",
    "    print(\"---------------\")"
   ]
  },
  {
   "cell_type": "markdown",
   "metadata": {
    "azdata_cell_guid": "57f8c191-5c8e-4de5-a24a-6052c72dfb7a"
   },
   "source": [
    "9\\. What is the average elevation by region?"
   ]
  },
  {
   "cell_type": "code",
   "execution_count": 21,
   "metadata": {
    "azdata_cell_guid": "ea6a22a5-51d9-4dd4-b3f3-e83bc2aba756"
   },
   "outputs": [
    {
     "data": {
      "text/plain": [
       "[{'_id': 'US-UT', 'avgElevation': 5242.333333333333},\n",
       " {'_id': 'US-IL', 'avgElevation': 699.4166666666666},\n",
       " {'_id': 'US-FL', 'avgElevation': 47.61538461538461},\n",
       " {'_id': 'US-KS', 'avgElevation': 1631.2222222222222},\n",
       " {'_id': 'US-WA', 'avgElevation': 1164.6},\n",
       " {'_id': 'US-MO', 'avgElevation': 775.2},\n",
       " {'_id': 'US-NJ', 'avgElevation': 67.75},\n",
       " {'_id': 'US-TX', 'avgElevation': 1052.0},\n",
       " {'_id': 'US-MD', 'avgElevation': 105.4},\n",
       " {'_id': 'US-AL', 'avgElevation': 507.8},\n",
       " {'_id': 'US-IN', 'avgElevation': 743.1818181818181},\n",
       " {'_id': 'US-AK', 'avgElevation': 428.625},\n",
       " {'_id': 'US-LA', 'avgElevation': 60.1},\n",
       " {'_id': 'US-MN', 'avgElevation': 1284.6},\n",
       " {'_id': 'US-ME', 'avgElevation': 530.8},\n",
       " {'_id': 'US-WI', 'avgElevation': 897.5},\n",
       " {'_id': 'US-NE', 'avgElevation': 2326.6666666666665},\n",
       " {'_id': 'US-CT', 'avgElevation': 493.3333333333333},\n",
       " {'_id': 'US-PA', 'avgElevation': 740.0909090909091},\n",
       " {'_id': 'US-IA', 'avgElevation': 910.0},\n",
       " {'_id': 'US-KY', 'avgElevation': 720.0},\n",
       " {'_id': 'US-GA', 'avgElevation': 657.5},\n",
       " {'_id': 'US-MT', 'avgElevation': 4183.666666666667},\n",
       " {'_id': 'US-NM', 'avgElevation': 3630.0},\n",
       " {'_id': 'US-OH', 'avgElevation': 857.0},\n",
       " {'_id': 'US-NY', 'avgElevation': 406.5},\n",
       " {'_id': 'US-TN', 'avgElevation': 827.5},\n",
       " {'_id': 'US-AR', 'avgElevation': 393.3333333333333},\n",
       " {'_id': 'US-MA', 'avgElevation': 124.75},\n",
       " {'_id': 'US-CA', 'avgElevation': 2213.4545454545455},\n",
       " {'_id': 'US-AZ', 'avgElevation': 3795.0},\n",
       " {'_id': 'PR-U-A', 'avgElevation': 15.0},\n",
       " {'_id': 'US-ID', 'avgElevation': 3697.8},\n",
       " {'_id': 'US-MI', 'avgElevation': 727.8},\n",
       " {'_id': 'US-NV', 'avgElevation': 5071.75},\n",
       " {'_id': 'US-SC', 'avgElevation': 278.25},\n",
       " {'_id': 'US-OK', 'avgElevation': 983.3333333333334},\n",
       " {'_id': 'US-VA', 'avgElevation': 1180.2},\n",
       " {'_id': 'US-SD', 'avgElevation': 1590.0},\n",
       " {'_id': 'US-NH', 'avgElevation': 805.0},\n",
       " {'_id': 'US-HI', 'avgElevation': 26.0},\n",
       " {'_id': 'US-WY', 'avgElevation': 4759.0},\n",
       " {'_id': 'US-CO', 'avgElevation': 7580.0},\n",
       " {'_id': 'US-WV', 'avgElevation': 2060.0},\n",
       " {'_id': 'US-OR', 'avgElevation': 1312.8},\n",
       " {'_id': 'US-NC', 'avgElevation': 314.25},\n",
       " {'_id': 'US-ND', 'avgElevation': 1045.0},\n",
       " {'_id': 'US-MS', 'avgElevation': 142.66666666666666},\n",
       " {'_id': 'MH-UTI', 'avgElevation': 4.0}]"
      ]
     },
     "execution_count": 21,
     "metadata": {},
     "output_type": "execute_result"
    }
   ],
   "source": [
    "list(collection.aggregate(\n",
    "    [\n",
    "        {\n",
    "            \"$group\":\n",
    "            {\n",
    "                '_id': '$iso_region',\n",
    "                'avgElevation' : { \"$avg\" : '$elevation_ft'}\n",
    "            }\n",
    "        }\n",
    "    ]\n",
    "))"
   ]
  },
  {
   "cell_type": "markdown",
   "metadata": {
    "azdata_cell_guid": "69a919cf-7d13-48f9-98c3-f94ae1ad5f89"
   },
   "source": [
    "10\\. What is the average elevation by airport type for airports on the continent of NA?"
   ]
  },
  {
   "cell_type": "code",
   "execution_count": 22,
   "metadata": {
    "azdata_cell_guid": "73309782-5e4c-497c-a288-205ce6c035d3"
   },
   "outputs": [
    {
     "data": {
      "text/plain": [
       "[{'_id': 'US-UT', 'avgElevation': 5242.333333333333},\n",
       " {'_id': 'US-IL', 'avgElevation': 699.4166666666666},\n",
       " {'_id': 'US-FL', 'avgElevation': 47.61538461538461},\n",
       " {'_id': 'US-KS', 'avgElevation': 1631.2222222222222},\n",
       " {'_id': 'US-WA', 'avgElevation': 1164.6},\n",
       " {'_id': 'US-MO', 'avgElevation': 775.2},\n",
       " {'_id': 'US-NJ', 'avgElevation': 67.75},\n",
       " {'_id': 'US-TX', 'avgElevation': 1052.0},\n",
       " {'_id': 'US-MD', 'avgElevation': 105.4},\n",
       " {'_id': 'US-AL', 'avgElevation': 507.8},\n",
       " {'_id': 'US-IN', 'avgElevation': 743.1818181818181},\n",
       " {'_id': 'US-AK', 'avgElevation': 428.625},\n",
       " {'_id': 'US-LA', 'avgElevation': 60.1},\n",
       " {'_id': 'US-MN', 'avgElevation': 1284.6},\n",
       " {'_id': 'US-ME', 'avgElevation': 530.8},\n",
       " {'_id': 'US-WI', 'avgElevation': 897.5},\n",
       " {'_id': 'US-NE', 'avgElevation': 2326.6666666666665},\n",
       " {'_id': 'US-CT', 'avgElevation': 493.3333333333333},\n",
       " {'_id': 'US-PA', 'avgElevation': 740.0909090909091},\n",
       " {'_id': 'US-IA', 'avgElevation': 910.0},\n",
       " {'_id': 'US-KY', 'avgElevation': 720.0},\n",
       " {'_id': 'US-GA', 'avgElevation': 657.5},\n",
       " {'_id': 'US-MT', 'avgElevation': 4183.666666666667},\n",
       " {'_id': 'US-NM', 'avgElevation': 3630.0},\n",
       " {'_id': 'US-OH', 'avgElevation': 857.0},\n",
       " {'_id': 'US-NY', 'avgElevation': 406.5},\n",
       " {'_id': 'US-TN', 'avgElevation': 827.5},\n",
       " {'_id': 'US-AR', 'avgElevation': 393.3333333333333},\n",
       " {'_id': 'US-MA', 'avgElevation': 124.75},\n",
       " {'_id': 'US-CA', 'avgElevation': 2213.4545454545455},\n",
       " {'_id': 'US-AZ', 'avgElevation': 3795.0},\n",
       " {'_id': 'PR-U-A', 'avgElevation': 15.0},\n",
       " {'_id': 'US-ID', 'avgElevation': 3697.8},\n",
       " {'_id': 'US-MI', 'avgElevation': 727.8},\n",
       " {'_id': 'US-NV', 'avgElevation': 5071.75},\n",
       " {'_id': 'US-SC', 'avgElevation': 278.25},\n",
       " {'_id': 'US-OK', 'avgElevation': 983.3333333333334},\n",
       " {'_id': 'US-VA', 'avgElevation': 1180.2},\n",
       " {'_id': 'US-SD', 'avgElevation': 1590.0},\n",
       " {'_id': 'US-NH', 'avgElevation': 805.0},\n",
       " {'_id': 'US-HI', 'avgElevation': 26.0},\n",
       " {'_id': 'US-WY', 'avgElevation': 4759.0},\n",
       " {'_id': 'US-CO', 'avgElevation': 7580.0},\n",
       " {'_id': 'US-WV', 'avgElevation': 2060.0},\n",
       " {'_id': 'US-OR', 'avgElevation': 1312.8},\n",
       " {'_id': 'US-NC', 'avgElevation': 314.25},\n",
       " {'_id': 'US-ND', 'avgElevation': 1045.0},\n",
       " {'_id': 'US-MS', 'avgElevation': 142.66666666666666}]"
      ]
     },
     "execution_count": 22,
     "metadata": {},
     "output_type": "execute_result"
    }
   ],
   "source": [
    "list(collection.aggregate(\n",
    "    [\n",
    "        {\n",
    "            \"$match\":{'continent':{\"$eq\":\"NA\"}}\n",
    "        },\n",
    "        {\n",
    "            \"$group\":\n",
    "            {\n",
    "                '_id': '$iso_region',\n",
    "                'avgElevation' : { \"$avg\" : '$elevation_ft'}\n",
    "            }\n",
    "        }\n",
    "\n",
    "    ]\n",
    ")\n",
    ")"
   ]
  },
  {
   "cell_type": "code",
   "execution_count": null,
   "metadata": {},
   "outputs": [],
   "source": []
  }
 ],
 "metadata": {
  "kernelspec": {
   "display_name": "Python 3 (ipykernel)",
   "language": "python",
   "name": "python3"
  },
  "language_info": {
   "codemirror_mode": {
    "name": "ipython",
    "version": 3
   },
   "file_extension": ".py",
   "mimetype": "text/x-python",
   "name": "python",
   "nbconvert_exporter": "python",
   "pygments_lexer": "ipython3",
   "version": "3.9.9"
  }
 },
 "nbformat": 4,
 "nbformat_minor": 2
}
