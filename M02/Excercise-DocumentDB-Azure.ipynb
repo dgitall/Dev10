1. How many airports are in this dataset?
{}. Query only. Can't aggregate
2. What are the unique iso_country values?
Can't aggrigate
3. How many heliports are in this sample? Hint: Look at the type field.
{'type':{"$eq":"heliport"}}
4. How many airports have "Air" in their name?
Hint: Use $regex.
{'name':{"$regex":"Air"}}
5. Which airports are greater than 1000ft and less than 1500ft in elevation?
{'elevation_ft':{"$gt":1000, "$lt":1500}}
6. Which airports are in the iso_country US? Sort the results in order of 
highest elevation to lowest elevation. Show the first 20 records.
Query only. Can't sort or limit. {'iso_country':{"$eq":"US"}}
7. We want to display these airports on a page 15 results at a time, sorted 
by type and then highest elevation to lowest elevation. Get the results 
for the first page.
Query only. Can't limit, skip, or order. 
8. Get us the results for the third page.
Query only. Can't limit, skip, or order. 
9. What is the average elevation by region?
Can't aggregate
10. What is the average elevation by airport type for airports on 
the continent of NA?
Query only. Can't aggregate. {'continent':{"$eq":"NA"}}