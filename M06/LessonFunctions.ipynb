{
 "cells": [
  {
   "cell_type": "markdown",
   "metadata": {},
   "source": [
    "# Functions"
   ]
  },
  {
   "cell_type": "code",
   "execution_count": 2,
   "metadata": {},
   "outputs": [
    {
     "name": "stdout",
     "output_type": "stream",
     "text": [
      "Fizzbuzz\n"
     ]
    }
   ],
   "source": [
    "# Define a function to check the Fizzbuzz status of a number\n",
    "def get_fizzbuzz(my_input):\n",
    "    my_fizzbuzz_result = ''\n",
    "    if my_input % 3 == 0 and my_input % 5 ==0: # No curly brackets\n",
    "        my_fizzbuzz_result = 'Fizzbuzz'\n",
    "    elif my_input % 3 == 1 and not (my_input %5 ==0):\n",
    "        my_fizzbuzz_result = 'Fizz'\n",
    "    elif not (my_input % 3 == 0) and my_input %5 == 0:\n",
    "        my_fizzbuzz_result = 'Buzz'\n",
    "    else:\n",
    "        my_fizzbuzz_result = ''\n",
    "        \n",
    "    print(my_fizzbuzz_result)\n",
    "    \n",
    "get_fizzbuzz(45)"
   ]
  },
  {
   "cell_type": "code",
   "execution_count": 3,
   "metadata": {},
   "outputs": [
    {
     "ename": "TypeError",
     "evalue": "not all arguments converted during string formatting",
     "output_type": "error",
     "traceback": [
      "\u001b[1;31m---------------------------------------------------------------------------\u001b[0m",
      "\u001b[1;31mTypeError\u001b[0m                                 Traceback (most recent call last)",
      "\u001b[1;32m~\\AppData\\Local\\Temp/ipykernel_87568/1971562510.py\u001b[0m in \u001b[0;36m<module>\u001b[1;34m\u001b[0m\n\u001b[1;32m----> 1\u001b[1;33m \u001b[0mget_fizzbuzz\u001b[0m\u001b[1;33m(\u001b[0m\u001b[1;34m'Not a number'\u001b[0m\u001b[1;33m)\u001b[0m\u001b[1;33m\u001b[0m\u001b[1;33m\u001b[0m\u001b[0m\n\u001b[0m",
      "\u001b[1;32m~\\AppData\\Local\\Temp/ipykernel_87568/969823344.py\u001b[0m in \u001b[0;36mget_fizzbuzz\u001b[1;34m(my_input)\u001b[0m\n\u001b[0;32m      2\u001b[0m \u001b[1;32mdef\u001b[0m \u001b[0mget_fizzbuzz\u001b[0m\u001b[1;33m(\u001b[0m\u001b[0mmy_input\u001b[0m\u001b[1;33m)\u001b[0m\u001b[1;33m:\u001b[0m\u001b[1;33m\u001b[0m\u001b[1;33m\u001b[0m\u001b[0m\n\u001b[0;32m      3\u001b[0m     \u001b[0mmy_fizzbuzz_result\u001b[0m \u001b[1;33m=\u001b[0m \u001b[1;34m''\u001b[0m\u001b[1;33m\u001b[0m\u001b[1;33m\u001b[0m\u001b[0m\n\u001b[1;32m----> 4\u001b[1;33m     \u001b[1;32mif\u001b[0m \u001b[0mmy_input\u001b[0m \u001b[1;33m%\u001b[0m \u001b[1;36m3\u001b[0m \u001b[1;33m==\u001b[0m \u001b[1;36m0\u001b[0m \u001b[1;32mand\u001b[0m \u001b[0mmy_input\u001b[0m \u001b[1;33m%\u001b[0m \u001b[1;36m5\u001b[0m \u001b[1;33m==\u001b[0m\u001b[1;36m0\u001b[0m\u001b[1;33m:\u001b[0m \u001b[1;31m# No curly brackets\u001b[0m\u001b[1;33m\u001b[0m\u001b[1;33m\u001b[0m\u001b[0m\n\u001b[0m\u001b[0;32m      5\u001b[0m         \u001b[0mmy_fizzbuzz_result\u001b[0m \u001b[1;33m=\u001b[0m \u001b[1;34m'Fizzbuzz'\u001b[0m\u001b[1;33m\u001b[0m\u001b[1;33m\u001b[0m\u001b[0m\n\u001b[0;32m      6\u001b[0m     \u001b[1;32melif\u001b[0m \u001b[0mmy_input\u001b[0m \u001b[1;33m%\u001b[0m \u001b[1;36m3\u001b[0m \u001b[1;33m==\u001b[0m \u001b[1;36m1\u001b[0m \u001b[1;32mand\u001b[0m \u001b[1;32mnot\u001b[0m \u001b[1;33m(\u001b[0m\u001b[0mmy_input\u001b[0m \u001b[1;33m%\u001b[0m\u001b[1;36m5\u001b[0m \u001b[1;33m==\u001b[0m\u001b[1;36m0\u001b[0m\u001b[1;33m)\u001b[0m\u001b[1;33m:\u001b[0m\u001b[1;33m\u001b[0m\u001b[1;33m\u001b[0m\u001b[0m\n",
      "\u001b[1;31mTypeError\u001b[0m: not all arguments converted during string formatting"
     ]
    }
   ],
   "source": [
    "get_fizzbuzz('Not a number')"
   ]
  },
  {
   "cell_type": "code",
   "execution_count": 4,
   "metadata": {},
   "outputs": [],
   "source": [
    "# Exception Handling\n",
    "def get_fizzbuzz(my_input):\n",
    "    my_fizzbuzz_result = ''\n",
    "    # Begin a 'try' block for any errors to be thrown\n",
    "    try:\n",
    "        # check for a particular error of not passing in an integer. Throw a\n",
    "        # ValueError exception\n",
    "        if type(my_input) is not int:\n",
    "            raise ValueError\n",
    "        # The rest of this is in the original function but indented to be within the try block\n",
    "        if my_input % 3 == 0 and my_input % 5 == 0:  # No curly brackets\n",
    "            my_fizzbuzz_result = 'Fizzbuzz'\n",
    "        elif my_input % 3 == 1 and not (my_input % 5 == 0):\n",
    "            my_fizzbuzz_result = 'Fizz'\n",
    "        elif not (my_input % 3 == 0) and my_input % 5 == 0:\n",
    "            my_fizzbuzz_result = 'Buzz'\n",
    "        else:\n",
    "            my_fizzbuzz_result = ''\n",
    "\n",
    "        print(my_fizzbuzz_result)\n",
    "    # Here's where we will catch the Errors\n",
    "    # Catch the ValueError to print a specific message     \n",
    "    except ValueError:\n",
    "        print(\"Input needs to be an integer\")\n",
    "    # Catch the rest of the exceptions for a generic message\n",
    "    except:\n",
    "        print(\"An exception has occurred\")\n"
   ]
  },
  {
   "cell_type": "code",
   "execution_count": 5,
   "metadata": {},
   "outputs": [
    {
     "name": "stdout",
     "output_type": "stream",
     "text": [
      "Fizzbuzz\n",
      "None\n",
      "Input needs to be an integer\n",
      "None\n"
     ]
    }
   ],
   "source": [
    "print(get_fizzbuzz(45))\n",
    "print(get_fizzbuzz('not integer'))"
   ]
  },
  {
   "cell_type": "code",
   "execution_count": 7,
   "metadata": {},
   "outputs": [
    {
     "name": "stdout",
     "output_type": "stream",
     "text": [
      "3\n",
      "27\n"
     ]
    }
   ],
   "source": [
    "# Default parameter values\n",
    "def calc_exp(num, power=1):\n",
    "    return num ** power\n",
    "\n",
    "print(calc_exp(3))\n",
    "print(calc_exp(3, 3))"
   ]
  },
  {
   "cell_type": "code",
   "execution_count": 11,
   "metadata": {},
   "outputs": [
    {
     "name": "stdout",
     "output_type": "stream",
     "text": [
      "3\n",
      "470\n",
      "maincourse: Coney Dog\n",
      "dessert: Mackinac Island fudge\n",
      "fruit: cherries\n",
      "beverage: Faygo\n"
     ]
    }
   ],
   "source": [
    "# Magic variables\n",
    "# * indicates an unnamed argument list\n",
    "def add(*nums):\n",
    "    sum = 0\n",
    "    # cycle through the list of numeric arguments\n",
    "    for num in nums:\n",
    "        sum = sum + num\n",
    "        \n",
    "    return sum\n",
    "\n",
    "print(add(1, 2))\n",
    "print(add(1,2,3,455,6,3))\n",
    "\n",
    "\n",
    "# ** indicates arguments are passed as key-value pairs\n",
    "def print_food_basket(**contents):\n",
    "    if len(contents) > 0:\n",
    "        # Why isn't enumerate used here?\n",
    "        for key, value in contents.items():\n",
    "            print(key + \": \" + value)\n",
    "    else:\n",
    "        print(\"The basket is empty!\")\n",
    "        \n",
    "\n",
    "print_food_basket(maincourse=\"Coney Dog\",\n",
    "                  dessert=\"Mackinac Island fudge\", fruit=\"cherries\", beverage=\"Faygo\")\n"
   ]
  },
  {
   "cell_type": "code",
   "execution_count": 13,
   "metadata": {},
   "outputs": [
    {
     "name": "stdout",
     "output_type": "stream",
     "text": [
      "Stage 3 Mad Libs\n",
      "=======================================\n",
      "Some words we're including are:\n",
      "3.14\tDominion\tFalse\t\n",
      "=======================================\n",
      "We even have some keyworded-values:\n",
      "city: Akron\n",
      "state: Ohio\n",
      "country: USA\n"
     ]
    }
   ],
   "source": [
    "# Mixing the magic with non-magical\n",
    "def print_mad_libs(title, *args, **kwargs):\n",
    "    print(title)\n",
    "    print(\"=======================================\")\n",
    "    if args is not None:\n",
    "        print('Some words we\\'re including are:')\n",
    "        for arg in args:\n",
    "            print(str(arg), end=\"\\t\")\n",
    "        print(\"\\n=======================================\")\n",
    "    if kwargs is not None:\n",
    "        print('We even have some keyworded-values:')\n",
    "        for key, value in kwargs.items():\n",
    "            print(key + ': ' + str(value))\n",
    "\n",
    "\n",
    "print_mad_libs('Stage 3 Mad Libs', 3.14, 'Dominion', False,\n",
    "               city='Akron', state='Ohio',\n",
    "               country='USA')\n"
   ]
  }
 ],
 "metadata": {
  "interpreter": {
   "hash": "19484d3e173094a80858f8f221d449fa1ad1b1d40c568e68a5f04390580cb6e7"
  },
  "kernelspec": {
   "display_name": "Python 3.9.7 64-bit ('base': conda)",
   "language": "python",
   "name": "python3"
  },
  "language_info": {
   "codemirror_mode": {
    "name": "ipython",
    "version": 3
   },
   "file_extension": ".py",
   "mimetype": "text/x-python",
   "name": "python",
   "nbconvert_exporter": "python",
   "pygments_lexer": "ipython3",
   "version": "3.9.7"
  },
  "orig_nbformat": 4
 },
 "nbformat": 4,
 "nbformat_minor": 2
}
