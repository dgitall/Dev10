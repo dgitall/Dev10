{
 "cells": [
  {
   "cell_type": "markdown",
   "metadata": {},
   "source": [
    "# Sets and Dictionaries\n",
    "\n",
    "## Sets"
   ]
  },
  {
   "cell_type": "code",
   "execution_count": 31,
   "metadata": {},
   "outputs": [
    {
     "name": "stdout",
     "output_type": "stream",
     "text": [
      "{'engineering', 'technology', 'science', 'mathematics', 'art'}\n",
      "{'engineering', 'technology', 'science', 'mathematics', 'art'}\n"
     ]
    }
   ],
   "source": [
    "# Copying Sets\n",
    "# Why it doesn't work like you expected\n",
    "stem_set = {'science', 'technology', 'engineering', 'mathematics'}\n",
    "type(stem_set)\n",
    "\n",
    "# Try to copy this set over to another one and add 'Art'\n",
    "steam_set = stem_set\n",
    "steam_set.add('art')\n",
    "print(steam_set)\n",
    "# It looks like it worked, but check the original set\n",
    "print(stem_set)\n",
    "# It was changed, too!!! Uh oh\n"
   ]
  },
  {
   "cell_type": "code",
   "execution_count": 32,
   "metadata": {},
   "outputs": [
    {
     "name": "stdout",
     "output_type": "stream",
     "text": [
      "{'engineering', 'technology', 'science', 'mathematics', 'art'}\n",
      "{'technology', 'science', 'mathematics', 'engineering'}\n"
     ]
    }
   ],
   "source": [
    "# Copying Sets\n",
    "# How to make it work as expected using copy()\n",
    "stem_set = {'science', 'technology', 'engineering', 'mathematics'}\n",
    "type(stem_set)\n",
    "\n",
    "# Try to copy this set over to another one and add 'Art'\n",
    "steam_set = stem_set.copy()\n",
    "steam_set.add('art')\n",
    "print(steam_set)\n",
    "# It looks like it worked, but check the original set\n",
    "print(stem_set)\n",
    "# It worked this time!\n"
   ]
  },
  {
   "cell_type": "code",
   "execution_count": 33,
   "metadata": {},
   "outputs": [
    {
     "name": "stdout",
     "output_type": "stream",
     "text": [
      "{'technology', 'science', 'mathematics'}\n",
      "{'technology', 'science', 'mathematics', 'engineering'}\n"
     ]
    }
   ],
   "source": [
    "# Copying Sets\n",
    "# How to make it work as expected using set()\n",
    "stem_set = {'science', 'technology', 'engineering', 'mathematics'}\n",
    "type(stem_set)\n",
    "\n",
    "stm_set = set(stem_set)\n",
    "stm_set.remove('engineering')\n",
    "print(stm_set)\n",
    "print(stem_set)\n"
   ]
  },
  {
   "cell_type": "code",
   "execution_count": 34,
   "metadata": {},
   "outputs": [
    {
     "name": "stdout",
     "output_type": "stream",
     "text": [
      "{'humanities', 'art'}\n",
      "{'business', 'humanities', 'art'}\n",
      "{'technology', 'humanities', 'science', 'mathematics', 'engineering', 'business', 'art'}\n"
     ]
    }
   ],
   "source": [
    "# Add vs Update\n",
    "other_studies_set = {'humanities', 'art'}\n",
    "studies = set(other_studies_set)\n",
    "print(studies)\n",
    "# Add one new element\n",
    "studies.add('business')\n",
    "print(studies)\n",
    "# Add multiple elements via the previous STEM set\n",
    "studies.update(stem_set)\n",
    "print(studies)"
   ]
  },
  {
   "cell_type": "code",
   "execution_count": 35,
   "metadata": {},
   "outputs": [
    {
     "name": "stdout",
     "output_type": "stream",
     "text": [
      "0: technology\n",
      "1: science\n",
      "2: mathematics\n",
      "3: engineering\n",
      "0: engineering\n",
      "1: mathematics\n",
      "2: science\n",
      "3: technology\n",
      "0: technology\n",
      "1: science\n",
      "2: mathematics\n",
      "3: engineering\n"
     ]
    }
   ],
   "source": [
    "# Accessing elements of a set via loops\n",
    "for index, study in enumerate(stem_set):\n",
    "    print(f'{index}: {study}')\n",
    "\n",
    "# For a listing sorted alphabetically\n",
    "for index, study in enumerate(sorted(stem_set)):\n",
    "    print(f'{index}: {study}')\n",
    "\n",
    "# For a listing sorted reverse alphabetically\n",
    "for index, study in enumerate(sorted(stem_set, reverse=True)):\n",
    "    print(f'{index}: {study}')\n"
   ]
  },
  {
   "cell_type": "markdown",
   "metadata": {},
   "source": [
    "## Dictionaries"
   ]
  },
  {
   "cell_type": "code",
   "execution_count": 36,
   "metadata": {},
   "outputs": [
    {
     "name": "stdout",
     "output_type": "stream",
     "text": [
      "dict_keys(['creamer', 'apples', 'pears', 'cough syrup', 'salmon'])\n",
      "dict_values([3.79, 3.99, 3.99, 11.99, 14.99])\n",
      "dict_items([('creamer', 3.79), ('apples', 3.99), ('pears', 3.99), ('cough syrup', 11.99), ('salmon', 14.99)])\n"
     ]
    }
   ],
   "source": [
    "# Create our sample dictionary. Create with curly brackets but enter as\n",
    "# a key value pair. Here, the name is the unique key.\n",
    "product_prices = {\n",
    "    'creamer': 3.79,\n",
    "    'apples': 3.99,\n",
    "    'pears': 3.99,\n",
    "    'cough syrup': 11.99,\n",
    "    'salmon': 14.99\n",
    "}\n",
    "type(product_prices)\n",
    "\n",
    "# SHow all the keys\n",
    "print(product_prices.keys())\n",
    "type(product_prices.keys())\n",
    "print(product_prices.values())\n",
    "print(product_prices.items())"
   ]
  },
  {
   "cell_type": "code",
   "execution_count": 37,
   "metadata": {},
   "outputs": [
    {
     "name": "stdout",
     "output_type": "stream",
     "text": [
      "True\n",
      "False\n",
      "True\n"
     ]
    }
   ],
   "source": [
    "# Check existence\n",
    "print('apples' in product_prices)\n",
    "print(3.79 in product_prices)\n",
    "# It didn't work. We must check existence on the values() explicitly\n",
    "print(3.79 in product_prices.values())"
   ]
  },
  {
   "cell_type": "code",
   "execution_count": 38,
   "metadata": {},
   "outputs": [
    {
     "name": "stdout",
     "output_type": "stream",
     "text": [
      "{'creamer': 3.79, 'apples': 3.99, 'pears': 3.99, 'cough syrup': 11.99, 'salmon': 14.99, 'laundry detergent': 13.99}\n",
      "{'creamer': 3.79, 'apples': 3.99, 'pears': 3.99, 'cough syrup': 9.99, 'salmon': 14.99, 'laundry detergent': 13.99}\n"
     ]
    }
   ],
   "source": [
    "# Add a new key-value pair to the\n",
    "product_prices['laundry detergent'] = 13.99\n",
    "print(product_prices)\n",
    "# update an existing value to the new value\n",
    "product_prices.update({'cough syrup':9.99})\n",
    "print(product_prices)"
   ]
  },
  {
   "cell_type": "code",
   "execution_count": 39,
   "metadata": {},
   "outputs": [
    {
     "name": "stdout",
     "output_type": "stream",
     "text": [
      "('laundry detergent', 13.99)\n",
      "{'creamer': 3.79, 'apples': 3.99, 'cough syrup': 9.99, 'salmon': 14.99}\n",
      "{'creamer': 3.79, 'apples': 3.99, 'salmon': 14.99}\n",
      "{}\n"
     ]
    }
   ],
   "source": [
    "# Removing items\n",
    "# pop off the last item added\n",
    "last_item = product_prices.popitem()\n",
    "print(last_item)\n",
    "# remove a specified key\n",
    "product_prices.pop('pears')\n",
    "print(product_prices)\n",
    "# or\n",
    "del product_prices['cough syrup']\n",
    "print(product_prices)\n",
    "# remove everything\n",
    "product_prices.clear()\n",
    "print(product_prices)"
   ]
  },
  {
   "cell_type": "code",
   "execution_count": 42,
   "metadata": {},
   "outputs": [
    {
     "name": "stdout",
     "output_type": "stream",
     "text": [
      "string cheese:13\n",
      "milk:4\n",
      "bananas:7\n",
      "cereal:6\n",
      "bacon:5\n"
     ]
    }
   ],
   "source": [
    "# looping through dictionaries \n",
    "product_prices = {\n",
    "    \"string cheese\": 3.49,\n",
    "    \"milk\": 2.99,\n",
    "    \"bananas\": 1.49,\n",
    "    \"cereal\": 2.99,\n",
    "    \"bacon\": 8.99\n",
    "}\n",
    "for key in product_prices:\n",
    "    print(f'{key}:{len(key)}')"
   ]
  },
  {
   "cell_type": "code",
   "execution_count": 46,
   "metadata": {},
   "outputs": [
    {
     "name": "stdout",
     "output_type": "stream",
     "text": [
      "['bacon', 'bananas', 'cereal', 'milk', 'string cheese']\n",
      "[1.49, 2.99, 2.99, 3.49, 8.99]\n",
      "[('bacon', 8.99), ('bananas', 1.49), ('cereal', 2.99), ('milk', 2.99), ('string cheese', 3.49)]\n",
      "[('bananas', 1.49), ('milk', 2.99), ('cereal', 2.99), ('string cheese', 3.49), ('bacon', 8.99)]\n"
     ]
    }
   ],
   "source": [
    "# Sorting\n",
    "# Sorted keys\n",
    "print(sorted(product_prices))\n",
    "# Sorted values\n",
    "print(sorted(product_prices.values()))\n",
    "# Items sorted by Key\n",
    "print(sorted(product_prices.items()))\n",
    "# Items sorted by values using a lambda function to the key parameter\n",
    "print(sorted(product_prices.items(), key = lambda x: x[1]))"
   ]
  },
  {
   "cell_type": "code",
   "execution_count": 50,
   "metadata": {},
   "outputs": [
    {
     "name": "stdout",
     "output_type": "stream",
     "text": [
      "{'string cheese': 3.49, 'milk': 2.99, 'bananas': 1.49, 'cereal': 2.99, 'bacon': 8.99}\n",
      "{'string cheese': 3.49, 'milk': 2.99}\n",
      "{'string cheese': 3.49, 'milk': 2.99, 'bananas': 1.49, 'cereal': 2.99, 'bacon': 8.99}\n"
     ]
    }
   ],
   "source": [
    "# Copying dictionaries\n",
    "dairy_prices = product_prices.copy()\n",
    "print(dairy_prices)\n",
    "# Use a list comprehension to remove all of the elements matching a list of keys\n",
    "[dairy_prices.pop(key) for key in ['bacon', 'cereal','bananas']]\n",
    "print(dairy_prices)\n",
    "print(product_prices)"
   ]
  }
 ],
 "metadata": {
  "interpreter": {
   "hash": "19484d3e173094a80858f8f221d449fa1ad1b1d40c568e68a5f04390580cb6e7"
  },
  "kernelspec": {
   "display_name": "Python 3.9.7 64-bit ('base': conda)",
   "language": "python",
   "name": "python3"
  },
  "language_info": {
   "codemirror_mode": {
    "name": "ipython",
    "version": 3
   },
   "file_extension": ".py",
   "mimetype": "text/x-python",
   "name": "python",
   "nbconvert_exporter": "python",
   "pygments_lexer": "ipython3",
   "version": "3.9.7"
  },
  "orig_nbformat": 4
 },
 "nbformat": 4,
 "nbformat_minor": 2
}
