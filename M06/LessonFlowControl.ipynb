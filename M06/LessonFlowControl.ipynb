{
 "cells": [
  {
   "cell_type": "code",
   "execution_count": 2,
   "metadata": {},
   "outputs": [
    {
     "name": "stdout",
     "output_type": "stream",
     "text": [
      "Too low!\n",
      "Done with the if statement\n"
     ]
    }
   ],
   "source": [
    "our_number = 42\n",
    "guess = int(input('Enter an integer: '))\n",
    "\n",
    "# Check if the guess is correct\n",
    "if guess == our_number:\n",
    "    print('Hooray!')\n",
    "elif guess > our_number:\n",
    "    print('Too high!')\n",
    "else:\n",
    "    print('Too low!')\n",
    "    \n",
    "print('Done with the if statement')"
   ]
  },
  {
   "cell_type": "code",
   "execution_count": 5,
   "metadata": {},
   "outputs": [
    {
     "name": "stdout",
     "output_type": "stream",
     "text": [
      "Even\n"
     ]
    }
   ],
   "source": [
    "# Ternary operators\n",
    "user_input = int(input(\"Enter a number:\"))\n",
    "print(\"Even\" if user_input %2 == 0 else \"Odd\")"
   ]
  },
  {
   "cell_type": "code",
   "execution_count": 6,
   "metadata": {},
   "outputs": [
    {
     "name": "stdout",
     "output_type": "stream",
     "text": [
      "Too low!\n",
      "Too low!\n",
      "Too low!\n",
      "Too high!\n",
      "Hooray!\n"
     ]
    }
   ],
   "source": [
    "our_number = 42\n",
    "is_guessed = False\n",
    "while is_guessed == False:\n",
    "    guess = int(input('Enter an integer: '))\n",
    "    if guess == our_number:\n",
    "        print('Hooray!')\n",
    "        is_guessed = True\n",
    "    elif guess > our_number:\n",
    "        print('Too high!')\n",
    "    else:\n",
    "        print('Too low!')\n",
    "        "
   ]
  },
  {
   "cell_type": "code",
   "execution_count": 7,
   "metadata": {},
   "outputs": [
    {
     "name": "stdout",
     "output_type": "stream",
     "text": [
      "3: Fizz\n",
      "5: Buzz\n",
      "6: Fizz\n",
      "9: Fizz\n",
      "10: Buzz\n",
      "12: Fizz\n",
      "15: Fizzbuzz\n",
      "18: Fizz\n",
      "Done with while loop\n"
     ]
    }
   ],
   "source": [
    "counter = 1\n",
    "while counter < 20:\n",
    "    if counter % 3 == 0 and counter % 5 == 0:\n",
    "        print(str(counter) + ': ' + 'Fizzbuzz')\n",
    "    elif counter % 3 == 0:\n",
    "        print(str(counter) + ': ' + 'Fizz')\n",
    "    elif counter % 5 == 0:\n",
    "        print(str(counter) + ': ' + 'Buzz')\n",
    "    counter += 1\n",
    "else:\n",
    "    print('Done with while loop')"
   ]
  },
  {
   "cell_type": "code",
   "execution_count": 8,
   "metadata": {},
   "outputs": [
    {
     "name": "stdout",
     "output_type": "stream",
     "text": [
      "3: Fizz\n",
      "5: Buzz\n",
      "6: Fizz\n",
      "9: Fizz\n",
      "10: Buzz\n",
      "12: Fizz\n",
      "18: Fizz\n",
      "Done with while loop\n"
     ]
    }
   ],
   "source": [
    "counter = 1\n",
    "while counter < 20:\n",
    "    if counter % 3 == 0 and counter % 5 == 0:\n",
    "        # Skip over all the rest of the if statements and other code in the while loop\n",
    "        # and go to the next iteration. Need to include the counter increment here\n",
    "        # first since it would get skipped.\n",
    "        counter += 1\n",
    "        continue\n",
    "    elif counter % 3 == 0:\n",
    "        print(str(counter) + ': ' + 'Fizz')\n",
    "    elif counter % 5 == 0:\n",
    "        print(str(counter) + ': ' + 'Buzz')\n",
    "    counter += 1\n",
    "else:\n",
    "    print('Done with while loop')\n"
   ]
  },
  {
   "cell_type": "code",
   "execution_count": 9,
   "metadata": {},
   "outputs": [
    {
     "name": "stdout",
     "output_type": "stream",
     "text": [
      "3: Fizz\n",
      "5: Buzz\n",
      "6: Fizz\n",
      "9: Fizz\n",
      "10: Buzz\n",
      "12: Fizz\n"
     ]
    }
   ],
   "source": [
    "counter = 1\n",
    "while counter < 20:\n",
    "    if counter % 3 == 0 and counter % 5 == 0:\n",
    "        # Break out of the while loop and end all iterations.\n",
    "        break\n",
    "    elif counter % 3 == 0:\n",
    "        print(str(counter) + ': ' + 'Fizz')\n",
    "    elif counter % 5 == 0:\n",
    "        print(str(counter) + ': ' + 'Buzz')\n",
    "    counter += 1\n",
    "else:\n",
    "    print('Done with while loop')\n"
   ]
  },
  {
   "cell_type": "code",
   "execution_count": 11,
   "metadata": {},
   "outputs": [
    {
     "name": "stdout",
     "output_type": "stream",
     "text": [
      "1: *\n",
      "2: **\n",
      "3: ***\n",
      "4: ****\n"
     ]
    }
   ],
   "source": [
    "# Use the range function to create a list of integers from 1 to 5\n",
    "# Note, range is inclusive of the first value and exclusive of the second value.\n",
    "# i.e., 1, 2, 3, and 4\n",
    "loop_range = range(1, 5)\n",
    "for i in loop_range:\n",
    "    print(str(i) + \": \" + ('*' * i))"
   ]
  },
  {
   "cell_type": "code",
   "execution_count": 14,
   "metadata": {},
   "outputs": [
    {
     "name": "stdout",
     "output_type": "stream",
     "text": [
      "1\n",
      "5\n",
      "25\n",
      "For loop is done\n"
     ]
    }
   ],
   "source": [
    "# Demonstrate an else statement in for loops\n",
    "my_number_to_factor = 125\n",
    "for i in range(1, my_number_to_factor):\n",
    "    if my_number_to_factor % i == 0:\n",
    "        print(str(i))\n",
    "else:\n",
    "    print(\"For loop is done\")"
   ]
  }
 ],
 "metadata": {
  "interpreter": {
   "hash": "19484d3e173094a80858f8f221d449fa1ad1b1d40c568e68a5f04390580cb6e7"
  },
  "kernelspec": {
   "display_name": "Python 3.9.7 64-bit ('base': conda)",
   "language": "python",
   "name": "python3"
  },
  "language_info": {
   "codemirror_mode": {
    "name": "ipython",
    "version": 3
   },
   "file_extension": ".py",
   "mimetype": "text/x-python",
   "name": "python",
   "nbconvert_exporter": "python",
   "pygments_lexer": "ipython3",
   "version": "3.9.7"
  },
  "orig_nbformat": 4
 },
 "nbformat": 4,
 "nbformat_minor": 2
}
