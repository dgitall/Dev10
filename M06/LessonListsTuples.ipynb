{
 "cells": [
  {
   "cell_type": "code",
   "execution_count": 1,
   "metadata": {},
   "outputs": [],
   "source": [
    "# Lists\n",
    "our_goals = ['Assess', 'Educate', 'Advance']\n",
    "grade_point_averages = [3.5, 4.0, 3.75, 3.5, 3.6, 3.9]\n",
    "student_counts = [8, 6, 7, 5, 3, 0, 9]\n",
    "random_stuff = [3.14, -42, 'B@nAnAs']\n",
    "# Tuples\n",
    "no_results = ()\n",
    "empty_tuple = tuple()\n",
    "avogadro = (6, 0, 2, 2, 1, 4, 0, 8, 5, 7, 7, 4, 7)\n",
    "games = (\"Dominion\", \"Eschaton\", \"Spirit Island\", \"Coup\")\n",
    "addresses = (1234, '127.0.0.1', '684D:1111:222:3333:4444:5555:6:77', 90210)\n"
   ]
  },
  {
   "cell_type": "code",
   "execution_count": 3,
   "metadata": {},
   "outputs": [
    {
     "data": {
      "text/plain": [
       "'Assess'"
      ]
     },
     "execution_count": 3,
     "metadata": {},
     "output_type": "execute_result"
    }
   ],
   "source": [
    "# Accessing\n",
    "our_goals[0]\n"
   ]
  },
  {
   "cell_type": "code",
   "execution_count": 4,
   "metadata": {},
   "outputs": [
    {
     "data": {
      "text/plain": [
       "'684D:1111:222:3333:4444:5555:6:77'"
      ]
     },
     "execution_count": 4,
     "metadata": {},
     "output_type": "execute_result"
    }
   ],
   "source": [
    "addresses[2]\n"
   ]
  },
  {
   "cell_type": "code",
   "execution_count": 6,
   "metadata": {},
   "outputs": [
    {
     "data": {
      "text/plain": [
       "3.9"
      ]
     },
     "execution_count": 6,
     "metadata": {},
     "output_type": "execute_result"
    }
   ],
   "source": [
    "# Accessing from the end\n",
    "grade_point_averages[-1]"
   ]
  },
  {
   "cell_type": "code",
   "execution_count": 7,
   "metadata": {},
   "outputs": [
    {
     "data": {
      "text/plain": [
       "[8, 6, 7, 5]"
      ]
     },
     "execution_count": 7,
     "metadata": {},
     "output_type": "execute_result"
    }
   ],
   "source": [
    "# Sliding: [start:end]\n",
    "student_counts[0:4]"
   ]
  },
  {
   "cell_type": "code",
   "execution_count": 8,
   "metadata": {},
   "outputs": [
    {
     "data": {
      "text/plain": [
       "('Eschaton', 'Spirit Island', 'Coup')"
      ]
     },
     "execution_count": 8,
     "metadata": {},
     "output_type": "execute_result"
    }
   ],
   "source": [
    "games[1:]"
   ]
  },
  {
   "cell_type": "code",
   "execution_count": 9,
   "metadata": {},
   "outputs": [
    {
     "name": "stdout",
     "output_type": "stream",
     "text": [
      "Assess\n",
      "Educate\n",
      "Advance\n"
     ]
    }
   ],
   "source": [
    "# Looping through lists and tuples\n",
    "# iterate through by checking if it is in the list\n",
    "for goal in our_goals:\n",
    "    print(goal)"
   ]
  },
  {
   "cell_type": "code",
   "execution_count": 10,
   "metadata": {},
   "outputs": [
    {
     "name": "stdout",
     "output_type": "stream",
     "text": [
      "Dominion\n",
      "Eschaton\n",
      "Spirit Island\n",
      "Coup\n"
     ]
    }
   ],
   "source": [
    "for game in games:\n",
    "    print(game)"
   ]
  },
  {
   "cell_type": "code",
   "execution_count": 19,
   "metadata": {},
   "outputs": [
    {
     "name": "stdout",
     "output_type": "stream",
     "text": [
      "['apple', 'pear', 'apricot', 'blueberries']\n",
      "['apple', 'pear', 'apricot', 'blueberries', 'durian']\n",
      "['apple', 'pear', 'longan', 'apricot', 'blueberries', 'durian']\n",
      "['apple', 'pear', 'longan', 'apricot', 'blueberries', 'durian', 'apple', 'pear', 'longan', 'apricot', 'blueberries', 'durian']\n",
      "['apple', 'pear', 'longan', 'apricot', 'durian', 'apple', 'pear', 'longan', 'apricot', 'blueberries', 'durian']\n",
      "True\n",
      "True\n"
     ]
    }
   ],
   "source": [
    "# Changing lists\n",
    "fruit_basket = ['apple', 'pomegranate', 'apricot', 'blueberries']\n",
    "# Change an element based on index\n",
    "fruit_basket[1] = 'pear'\n",
    "print(fruit_basket)\n",
    "# Add an item to the end of the list\n",
    "fruit_basket.append('durian')\n",
    "print(fruit_basket)\n",
    "# Add an item at the specified position\n",
    "fruit_basket.insert(2, 'longan')\n",
    "print(fruit_basket)\n",
    "# Combine strings together\n",
    "fruit_basket += fruit_basket\n",
    "print(fruit_basket)\n",
    "# remove a specified item (note: only the first occurance)\n",
    "fruit_basket.remove('blueberries')\n",
    "print(fruit_basket)\n",
    "# Check if an element exists in the list or tuple\n",
    "print('blueberries' in fruit_basket)\n",
    "print('Risk' not in games)\n"
   ]
  },
  {
   "cell_type": "code",
   "execution_count": 23,
   "metadata": {},
   "outputs": [
    {
     "name": "stdout",
     "output_type": "stream",
     "text": [
      "[0, 2, 4, 6, 8, 10]\n",
      "[0, 1, 4, 9, 16, 25, 36, 49, 64, 81]\n",
      "[15, 30, 45, 60, 75, 90]\n"
     ]
    }
   ],
   "source": [
    "# List comprehensions\n",
    "# form is [expression for variable_name in list_name if conditional_clause]\n",
    "# which means: Do <expression> for every <variable_name> in <list_name> where <conditional_clause> is true.\n",
    "evens = [num for num in range(0,11) if num % 2 == 0]\n",
    "# Append num to the list for every num in the range 0 to 11 where num is even\n",
    "print(evens)\n",
    "# Add a squared value to the list for every x in the range of 0 to 10\n",
    "print([x**2 for x in range(10)])\n",
    "# Redo the Fizzbuzz numbers in a range of 0 to 101\n",
    "# Add a x to the list for every x in the range of 0 to 101 where x%3 AND x%5 ==0\n",
    "print([x for x in range(1,101) if x%3 == 0 if x% 5 == 0])\n"
   ]
  },
  {
   "cell_type": "code",
   "execution_count": 5,
   "metadata": {},
   "outputs": [
    {
     "name": "stdout",
     "output_type": "stream",
     "text": [
      "['title', 'ISBN-10', 'publishedYear', 'price']\n",
      "['Python Data Science Handbook', '1491912057', 2016, 54.0]\n",
      "['Hello World! Computer Programming for Kids and Other Beginners', '161729702X', 2019, 39.99]\n",
      "['Knowledge is Beautiful', '9780007427925', 2013, 33.99]\n",
      "title\n",
      "ISBN-10\n",
      "publishedYear\n",
      "price\n",
      "Python Data Science Handbook\n",
      "1491912057\n",
      "2016\n",
      "54.0\n",
      "Hello World! Computer Programming for Kids and Other Beginners\n",
      "161729702X\n",
      "2019\n",
      "39.99\n",
      "Knowledge is Beautiful\n",
      "9780007427925\n",
      "2013\n",
      "33.99\n",
      "Python Data Science Handbook\n",
      "1491912057\n",
      "2016\n",
      "54.0\n",
      "Hello World! Computer Programming for Kids and Other Beginners\n",
      "161729702X\n",
      "2019\n",
      "39.99\n",
      "Knowledge is Beautiful\n",
      "9780007427925\n",
      "2013\n",
      "33.99\n",
      "title: Python Data Science Handbook\n",
      "ISBN-10: 1491912057\n",
      "publishedYear: 2016\n",
      "price: 54.0\n",
      "-----\n",
      "title: Hello World! Computer Programming for Kids and Other Beginners\n",
      "ISBN-10: 161729702X\n",
      "publishedYear: 2019\n",
      "price: 39.99\n",
      "-----\n",
      "title: Knowledge is Beautiful\n",
      "ISBN-10: 9780007427925\n",
      "publishedYear: 2013\n",
      "price: 33.99\n",
      "-----\n"
     ]
    }
   ],
   "source": [
    "# Nested lists\n",
    "data_books = [\n",
    "    ['title', 'ISBN-10', 'publishedYear', 'price'],\n",
    "    ['Python Data Science Handbook', '1491912057', 2016, 54.00],\n",
    "    ['Hello World! Computer Programming for Kids and Other Beginners',\n",
    "        '161729702X', 2019, 39.99],\n",
    "    ['Knowledge is Beautiful', '9780007427925', 2013, 33.99]\n",
    "]\n",
    "# print the info for each book\n",
    "for book in data_books:\n",
    "    print(book)\n",
    "    \n",
    "# Get into the nested list to print the parts separately\n",
    "for book in data_books:\n",
    "    for detail in book:\n",
    "        print(detail)\n",
    "\n",
    "# print only the books excluding the header\n",
    "for book in data_books:\n",
    "    # checks if the first element is 'title' to see if the header\n",
    "    if book[0] != 'title':\n",
    "        for detail in book:\n",
    "            print(detail)\n",
    "            \n"
   ]
  },
  {
   "cell_type": "code",
   "execution_count": 7,
   "metadata": {},
   "outputs": [
    {
     "name": "stdout",
     "output_type": "stream",
     "text": [
      "title: Python Data Science Handbook\n",
      "ISBN-10: 1491912057\n",
      "publishedYear: 2016\n",
      "price: 54.0\n",
      "-----\n",
      "title: Hello World! Computer Programming for Kids and Other Beginners\n",
      "ISBN-10: 161729702X\n",
      "publishedYear: 2019\n",
      "price: 39.99\n",
      "-----\n",
      "title: Knowledge is Beautiful\n",
      "ISBN-10: 9780007427925\n",
      "publishedYear: 2013\n",
      "price: 33.99\n",
      "-----\n"
     ]
    }
   ],
   "source": [
    "# Print the book details with their header and a separator between books\n",
    "headers = data_books[0]\n",
    "for book in data_books:\n",
    "    # skip over header\n",
    "    if book[0] != 'title':\n",
    "        # Use enumerate() to go through the list with a counter. First value in for loop is the counter\n",
    "        # and the second represents each item in the list\n",
    "        for count, detail in enumerate(book):\n",
    "            # Access the <count> element in the header and print it followed by the corresponding detail\n",
    "            print(f'{headers[count]}: {detail}')\n",
    "        print('-----')\n"
   ]
  }
 ],
 "metadata": {
  "interpreter": {
   "hash": "19484d3e173094a80858f8f221d449fa1ad1b1d40c568e68a5f04390580cb6e7"
  },
  "kernelspec": {
   "display_name": "Python 3.9.7 64-bit ('base': conda)",
   "language": "python",
   "name": "python3"
  },
  "language_info": {
   "codemirror_mode": {
    "name": "ipython",
    "version": 3
   },
   "file_extension": ".py",
   "mimetype": "text/x-python",
   "name": "python",
   "nbconvert_exporter": "python",
   "pygments_lexer": "ipython3",
   "version": "3.9.7"
  },
  "orig_nbformat": 4
 },
 "nbformat": 4,
 "nbformat_minor": 2
}
